{
 "cells": [
  {
   "cell_type": "markdown",
   "id": "1abf91fd-ec09-4265-80e3-c66f04570a51",
   "metadata": {},
   "source": [
    "# Investigating the Causes of Exercise-Induced Angina\n",
    "### Cabrinha Clark, Carol Dong, Tanishka Gandhi, Astrid Zhang\n",
    "\n",
    "\n",
    "## Introduction\n",
    "Heart disease is the leading cause of death for both men and women of all racial and ethnic backgrounds within the United States. About 20.5 million U.S. adults have coronary artery disease, which occurs when the vessels supplying blood to your heart narrow. Exercise-induced angina, a common preset symptom of coronary artery disease, is chest pain that occurs due to reduced blood flow to the heart when an individual exercises. \n",
    "\n",
    "While it is good to exercise regularly, this symptom needs to be taken into consideration when deciding the right fitness plan for the individual to avoid heart disease. For example, an individual more prone to angina due to movement should lower the intensity of their cardio to avoid an episode. Our project will be performing data analysis on the cleve.mod dataset, containing test results of patients undergoing angiography at Cleveland Clinic to investigate what other factors may cause an individual to suffer exercise-induced angina, and to report our findings on this matter.\n",
    "\n",
    "Therefore, this research will investigate the question: \n",
    " **How do factors such as cholesterol level, maximum heart rate, exercise stress test, and age impact the likelihood of an individual experiencing exercise-induced angina?**\n",
    "\n"
   ]
  },
  {
   "cell_type": "markdown",
   "id": "1ce16f74-a5ed-4dd5-bae6-4436a5584610",
   "metadata": {},
   "source": [
    "## Preliminary Exploratory Data Analysis\n",
    "### Loading in libraries and the data set"
   ]
  },
  {
   "cell_type": "code",
   "execution_count": null,
   "id": "1dd66252-dd0f-48aa-a6cf-6dfbc3b1aabf",
   "metadata": {
    "tags": []
   },
   "outputs": [],
   "source": [
    "## Loading libraries:\n",
    "install.packages(\"themis\")\n",
    "library(tidyverse)\n",
    "library(readr)\n",
    "library(tidymodels)\n",
    "library(stringr)\n",
    "options(repr.matrix.max.rows = 6)\n",
    "library(themis)\n",
    "\n",
    "# Set seed to ensure reproducibility\n",
    "set.seed(1)\n",
    "\n",
    "## Hide message\n",
    "show_col_types = FALSE"
   ]
  },
  {
   "cell_type": "markdown",
   "id": "29307e1d-23b5-47d7-85ad-20caf5110941",
   "metadata": {},
   "source": [
    "### Cleaning and wrangling data"
   ]
  },
  {
   "cell_type": "code",
   "execution_count": null,
   "id": "79756ee1-47a4-413c-8d6f-92075cbe1753",
   "metadata": {
    "scrolled": true,
    "tags": []
   },
   "outputs": [],
   "source": [
    "## Clean and wrangle data \n",
    "\n",
    "# Set seed to ensure reproducibility\n",
    "\n",
    "## Loading data set with a url\n",
    "file_url <- \"http://raw.githubusercontent.com/kakeysword/dsci100-heart-disease/main/cleve.mod\"\n",
    "\n",
    "heart_disease_data <- read_delim(url(file_url), \",\", skip = 19, col_names = FALSE)\n",
    "\n",
    "## Assigning column names to the data set\n",
    "heart_disease_clean <- heart_disease_data |> \n",
    "    separate(X1, into = c(\"age\", \"sex\", \"cp\", \"trestbps\", \"chol\",\"fbs\", \n",
    "                   \"restecg\", \"thalach\", \"exang\", \"oldpeak\", \"slope\", \n",
    "                   \"ca\", \"thal\", \"num\"), sep = \"\\\\s+\")\n",
    "\n",
    "## Changing columns to the correct type\n",
    "heart_disease_clean <- mutate_at(heart_disease_clean, \n",
    "                             c(\"age\", \"trestbps\", \"chol\", \"thalach\", \"oldpeak\", \"ca\", \"num\"),\n",
    "                            as.numeric) |>\n",
    "    mutate(exang = as_factor(exang)) |>\n",
    "    select(exang, age, trestbps, chol, thalach, ca, oldpeak)\n",
    "\n",
    "#selecting our choosen variables\n",
    "heart_disease_final <- mutate_at(heart_disease_clean, \n",
    "                             c(\"age\", \"chol\", \"thalach\", \"oldpeak\"),\n",
    "                            as.numeric) |>\n",
    "    mutate(exang = as_factor(exang)) |>\n",
    "    select(exang, age, chol, thalach, oldpeak)\n",
    "\n",
    "## Replace all values of \"fal\" in exang column to \"false\" for better readablity\n",
    "heart_disease_clean$exang <- str_replace(heart_disease_final$exang, \"fal\", \"false\")\n",
    "\n",
    "## Splitting the data into training and testing\n",
    "heart_disease_split <- initial_split(heart_disease_final, prop = 0.75, strata = exang)\n",
    "\n",
    "heart_disease_train <- training(heart_disease_split)\n",
    "heart_disease_test <- testing(heart_disease_split)\n",
    "\n",
    "heart_disease_train    \n"
   ]
  },
  {
   "cell_type": "markdown",
   "id": "cdb47756-74c7-4a8a-a1f9-8e381c7557a7",
   "metadata": {},
   "source": [
    "### Building K Classification Model"
   ]
  },
  {
   "cell_type": "code",
   "execution_count": null,
   "id": "23c822ed-6675-48e1-a59f-0afc89d8f804",
   "metadata": {
    "scrolled": true
   },
   "outputs": [],
   "source": [
    "#setting seed\n",
    "set.seed(1)\n",
    "\n",
    "#recipe\n",
    "heart_recipe <- recipe(exang ~ age + chol + thalach + oldpeak, data = heart_disease_train) |>\n",
    "    step_scale(all_predictors()) |>\n",
    "    step_center(all_predictors())\n",
    " # step_upsample(exang, over_ratio = 1, skip = TRUE) \n",
    "  \n",
    "heart_recipe\n",
    "\n",
    "#heart spec\n",
    "knn_spec <- nearest_neighbor(weight_func = \"rectangular\", neighbors = tune()) |>\n",
    "set_engine(\"kknn\") |>\n",
    "set_mode(\"classification\")\n",
    "knn_spec\n",
    "\n",
    "#add vfold\n",
    "vfold <- vfold_cv(heart_disease_train, v = 10, strata = exang)\n",
    "\n",
    "vals <- tibble(neighbors = seq(from = 1, to = 10, by = 1))\n",
    "\n",
    "#workflow\n",
    "heart_workflow <- workflow() |>\n",
    "    add_recipe(heart_recipe) |>\n",
    "    add_model(knn_spec) |>\n",
    "    tune_grid(resamples = vfold, grid = vals) |>\n",
    "    collect_metrics()\n",
    "\n",
    "#testing accuracy\n",
    "accuracies <- heart_workflow  |>\n",
    "    filter(.metric == \"accuracy\")\n",
    "\n",
    "accuracy_vs_k <- ggplot(accuracies, aes(x = neighbors, y = mean)) +\n",
    "    geom_point() + \n",
    "    geom_line() +\n",
    "    labs(x = \"neighbors\", y = \"accuracy estimate\") + \n",
    "    theme(text = element_text(size = 12))\n",
    "accuracy_vs_k\n",
    "\n",
    "best_k <- accuracies |>\n",
    "    arrange(desc(mean)) |>\n",
    "    head(1) |>\n",
    "    pull(neighbors)\n",
    "best_k\n",
    "\n",
    "#knn_spec with new k-value \n",
    "knn_spec_2 <- nearest_neighbor(weight_func = \"rectangular\", neighbors = best_k) |>\n",
    "set_engine(\"kknn\") |>\n",
    "set_mode(\"classification\")\n",
    "knn_spec_2\n",
    "\n",
    "knn_fit <- workflow() |>\n",
    "    add_recipe(heart_recipe) |>\n",
    "    add_model(knn_spec_2) |>\n",
    "    fit(data = heart_disease_train)\n",
    "\n",
    "#prediction\n",
    "heart_test_predictions <- predict(knn_fit, heart_disease_test) |>\n",
    "    bind_cols(heart_disease_test)\n",
    "\n",
    "heart_test_predictions |>\n",
    "    metrics(truth = exang, estimate = .pred_class)|>\n",
    "    filter(.metric == \"accuracy\")\n",
    "\n",
    "heart_test_predictions |>\n",
    "    precision(truth = exang, estimate = .pred_class, event_level = \"first\")"
   ]
  },
  {
   "cell_type": "markdown",
   "id": "6081afef-5957-45ae-b2cc-a7dbbedfbf1c",
   "metadata": {},
   "source": [
    "### Summarizing the data"
   ]
  },
  {
   "cell_type": "code",
   "execution_count": null,
   "id": "2c003178-4a43-41b6-867e-2d6cf4e3496e",
   "metadata": {},
   "outputs": [],
   "source": [
    "## Data to see number of occurences of exercise-induced angina\n",
    "\n",
    "sum_heart_disease <- heart_disease_train |>\n",
    "    group_by(exang) |>\n",
    "    summarize(count = n(),\n",
    "             avg_age = mean(age),         \n",
    "             avg_chol = mean(chol),      \n",
    "             avg_thalach = mean(thalach),\n",
    "             min_age = min(age),\n",
    "             min_chol = min(chol),\n",
    "             min_thalach = min(thalach),\n",
    "             max_age = max(age),\n",
    "             max_chol = max(chol),\n",
    "             max_thalach = max(thalach)) \n",
    "\n",
    "sum_heart_disease"
   ]
  },
  {
   "cell_type": "markdown",
   "id": "e8ce0392-dee0-4841-89ed-758ee1f84ab9",
   "metadata": {},
   "source": [
    "### Visualizing the data"
   ]
  },
  {
   "cell_type": "code",
   "execution_count": null,
   "id": "a05362e3-1857-44a9-80f8-2698e8a73d0a",
   "metadata": {
    "scrolled": true
   },
   "outputs": [],
   "source": [
    "## Create plots to visualize data\n",
    "heart_disease_clean\n",
    "\n",
    "#boxplot for trestbps\n",
    "options(repr.plot.width = 8, repr.plot.height = 7)\n",
    "\n",
    "trestbps_plot <- heart_disease_clean |>\n",
    "    ggplot(aes(y = trestbps, x = exang)) +\n",
    "    geom_boxplot() +\n",
    "    labs(y = \"Trestbps (mmHg)\", x = \"Exercise Induced Angina\", title = \"Dependency of Angina on Trestbps\")\n",
    "trestbps_plot\n",
    "\n",
    "#boxplot for cholesterol\n",
    "chol_plot <- heart_disease_clean |>\n",
    "    ggplot(aes(y = chol, x = exang)) +\n",
    "    geom_boxplot() +\n",
    "    labs(y = \"Serum Cholesterol (mg/dl)\", x = \"Exercise Induced Angina\", title = \"Dependency of Angina on Cholesterol\")\n",
    "chol_plot\n",
    "\n",
    "#boxplot for thalach\n",
    "thalach_plot <- heart_disease_clean |>\n",
    "    ggplot(aes(y = thalach, x = exang)) +\n",
    "    geom_boxplot() +\n",
    "    labs(y = \"Thalach\", x = \"Exercise Induced Angina\", title = \"Dependency of Angina on Thalach\")\n",
    "thalach_plot\n",
    "\n",
    "#boxplot for ca\n",
    "ca_plot <- heart_disease_clean |>\n",
    "    ggplot(aes(y = ca, x = exang)) +\n",
    "    geom_boxplot() +\n",
    "    labs(y = \"Number of Major Vessels (CA)\", x = \"Exercise Induced Angina\", title = \"Dependency of Angina on CA\")\n",
    "ca_plot\n",
    "\n",
    "#boxplot for oldpeak \n",
    "oldpeak_plot <- heart_disease_clean |>\n",
    "    ggplot(aes(y = oldpeak, x = exang)) +\n",
    "    geom_boxplot() +\n",
    "    labs(y = \"oldpeak\", x = \"Exercise Induced Angina\")\n",
    "oldpeak_plot\n",
    "\n",
    "#boxplot for age \n",
    "age_plot <- heart_disease_clean |>\n",
    "    ggplot(aes(y = age, x = exang)) +\n",
    "    geom_boxplot() +\n",
    "    labs(y = \"Age\", x = \"Exercise Induced Angina\", title = \"Dependency of Angina on Age\")\n",
    "age_plot"
   ]
  },
  {
   "cell_type": "markdown",
   "id": "a58d1c81-ee3d-4160-b46e-935df1cb5353",
   "metadata": {},
   "source": [
    "## Methods\n",
    "After loading in the necessary libraries, we loaded in the `cleve.mod` data set from the Heart Disease Database, which contains data taken from patients at the Cleveland Clinic in Cleveland Ohio.\n",
    "Our data analysis will be preparing to perform a classification to determine whether a new patient is likely to experience exercise-induced angina.\n",
    "We are using `exang` (exercised-induced angina) as our classification variable, and the following 4 columns as the predictors: `age, chol, thalach, oldpeak`. <br><br>\n",
    "`exang` : Exercise induced angina (true or false) <br>\n",
    "`age` : Age in years <br>\n",
    "`chol` : Serum Cholesterol (mg/dl) <br>\n",
    "`thalach` : Maximum Heart Rate <br>\n",
    "`oldpeak` : Slope of the Peak Exercise ST Segment <br>\n",
    "\n",
    "In order to select the predictors used within our model, we create boxplots for each numeric variable supplied within the data: `age, chol, thalach, oldpeak, ca, trestbps`. <br><br>\n",
    "\n",
    "\n",
    "When cleaning the data, we made sure to separate the data into individual columns, and convert them into the correct type (e.g. numeric for numerical variables) as everything was of type character when the data set was first loaded in. <br> <br>\n",
    "Next, we split the `heart_disease_data` into 3/4 training and 1/4 testing data, setting `strata` to `exang`. <br> <br>\n",
    "When summarizing the data, we grouped the training dataset by `exang`, and then found the number of patients that did or did not experience exercise-induced angina, and also found the mean, minimum and maximum value for each grouping. <br> <br>\n",
    "For the visualization of our data, we created three scatter plots with the predictive variables using the training data:\n",
    " * `chol` vs `age` \n",
    " * `thalach` vs `age`\n",
    " * `chol` vs `thalach` <br><br>\n",
    "As a result, we can see a weak positive relationship between `chol` and `age` in the first plot. The age distribution implicates that more patients older in age have experienced exercise-induced angina more than patients younger in age, as more data points with the `true` value tend to the right side of the plot. <br>The second plot shows a weak negative trend, showing that the maximum heart rate decreases with age. We can also see that patients who do not have exercise-induced angina tend to have a higher maximum heart rate. <br>The third plot does not show a clear linear trend between cholesterol levels and heart rate, suggesting that patients with varying heart rates tend to have similar cholesterol levels."
   ]
  },
  {
   "cell_type": "markdown",
   "id": "a4654f34-0a91-4639-a8ee-c0c661dc0a85",
   "metadata": {},
   "source": [
    "## Expected Outcomes and Significance\n",
    "**What we expect to find：**  \n",
    "For our first variable, age, we expect to see a positive relationship between age and anginal pain. Scientific studies prove that as humans age, the level of oxygen concentration within the blood decreases. For serum cholesterol, higher blood cholesterol concentration is associated with less oxygen transport within the blood. Therefore, we expect to find higher serum cholesterol levels among patients that have experienced exercise-induced angina. Maximum heart rate indicates the demand for blood and oxygen of the heart. We expect to find a positive correlation between each predictive variable and the number of individuals experiencing exercise-induced angina.\n",
    "\n",
    "**The impact of our findings：**  \n",
    "Many doctors recommend exercise for various types of medical concerns. Our research findings could influence doctors to offer safer remedies to their patients. For example, prior to recommending high-intensity exercise to their patients, a medical professional can consider the three predictive variables within our study to analyze how susceptible the patient is to heart pain during movement. This could decrease the risk of a patient experiencing exercise-induced angina by prescribing a lower intensity plan.\n",
    "\n",
    "**Future questions this could lead to：**\n",
    "* How effective would maintaining a lower cholesterol level and heart rate be towards preventing exercise-induced angina?\n",
    "* What other factors could be strong indicators that an individual is susceptible to experiencing angina?\n"
   ]
  },
  {
   "cell_type": "markdown",
   "id": "9f4f7867-3bf2-45b6-a4d4-eae1d3a2e836",
   "metadata": {},
   "source": [
    "## Bibliography\n",
    "\n",
    "Janosi,Andras, Steinbrunn,William, Pfisterer,Matthias, and Detrano,Robert. (1988). Heart Disease. UCI Machine Learning Repository. https://doi.org/10.24432/C52P4X. \n",
    "<br><br>\n",
    "Buchwald H, O'Dea TJ, Menchaca HJ, Michalek VN, Rohde TD. Effect of plasma cholesterol on red blood cell oxygen transport. Clin Exp Pharmacol Physiol. 2000 Dec;27(12):951-5. doi: 10.1046/j.1440-1681.2000.03383.x. PMID: 11117230.<br><br>\n",
    "Cunha, John P., editor. \"What Is a Good Oxygen Rate by Age?\" emedicinehealth,  www.emedicinehealth.com/what_is_a_good_oxygen_rate_by_age/article_em.htm <br><br>\n",
    "Beckett N, Nunes M, Bulpitt C. Is it advantageous to lower cholesterol in the elderly hypertensive? Cardiovasc Drugs Ther. 2000 Aug;14(4):397-405. doi: 10.1023/a:1007812232328. PMID: 10999646.<br><br>\n",
    "Crooks CJ, West J, Morling J, Simmonds M, Juurlink I, Briggs S, Cruickshank S, Hammond-Pears S, Shaw D, Card T, Fogarty AW. Inverse association between blood pressure and pulse oximetry accuracy: an observational study in patients with suspected or confirmed COVID-19 infection. Emerg Med J. 2023 Mar;40(3):216-220. doi: 10.1136/emermed-2022-212443. Epub 2022 Dec 7. PMID: 36600468. <br><br>\n",
    "Schantz P, Salier Eriksson J, Rosdahl H. The heart rate method for estimating oxygen uptake: analyses of reproducibility using a range of heart rates from commuter walking. Eur J Appl Physiol. 2019 Dec;119(11-12):2655-2671. doi: 10.1007/s00421-019-04236-0. Epub 2019 Oct 18. PMID: 31628539; PMCID: PMC6858472. <br><br>\n",
    "Medical News Today. www.medicalnewstoday.com/articles/does-exercise-lower-cholesterol#:~:text=According%20to%20the%20AHA%2C%20150,also%20help%20raise%20HDL%20cholesterol. Accessed 9 Mar. 2024. <br><br>\n",
    "\"What Is Coronary Heart Disease.\" National Heart, Lung, and Blood Institute, www.nhlbi.nih.gov/health/coronary-heart-disease#:~:text=About%2020.5%20million%20U.S.%20adults,the%20surface%20of%20the%20heart. Accessed 9 Mar. 2024. \n",
    "\n"
   ]
  },
  {
   "cell_type": "code",
   "execution_count": null,
   "id": "b27ad590-5973-456b-be00-cf5abeffcd4a",
   "metadata": {},
   "outputs": [],
   "source": [
    "\n",
    "heart_disease_clean <- heart_disease_data |> \n",
    "    separate(X1, into = c(\"age\", \"sex\", \"cp\", \"trestbps\", \"chol\",\"fbs\", \n",
    "                   \"restecg\", \"thalach\", \"exang\", \"oldpeak\", \"slope\", \n",
    "                   \"ca\", \"thal\", \"num\"), sep = \"\\\\s+\")\n"
   ]
  },
  {
   "cell_type": "code",
   "execution_count": null,
   "id": "72747a7f-af77-47b8-8158-9a694eeb2db8",
   "metadata": {},
   "outputs": [],
   "source": []
  },
  {
   "cell_type": "code",
   "execution_count": null,
   "id": "5ec2f9d0-9d14-46e6-963a-5601da5dc8a4",
   "metadata": {},
   "outputs": [],
   "source": []
  }
 ],
 "metadata": {
  "kernelspec": {
   "display_name": "R",
   "language": "R",
   "name": "ir"
  },
  "language_info": {
   "codemirror_mode": "r",
   "file_extension": ".r",
   "mimetype": "text/x-r-source",
   "name": "R",
   "pygments_lexer": "r",
   "version": "4.3.1"
  },
  "widgets": {
   "application/vnd.jupyter.widget-state+json": {
    "state": {},
    "version_major": 2,
    "version_minor": 0
   }
  }
 },
 "nbformat": 4,
 "nbformat_minor": 5
}
