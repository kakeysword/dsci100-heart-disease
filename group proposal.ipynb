{
 "cells": [
  {
   "cell_type": "markdown",
   "id": "f05a30e1-5282-451a-92e7-c381af32bc30",
   "metadata": {},
   "source": [
    "# DSCI 100 Group 05 Project - Heart Disease\n"
   ]
  },
  {
   "cell_type": "code",
   "execution_count": null,
   "id": "1dd66252-dd0f-48aa-a6cf-6dfbc3b1aabf",
   "metadata": {},
   "outputs": [],
   "source": [
    "## Load libraries:\n",
    "library(tidyverse)\n",
    "\n",
    "## Load Heart Disease Data (name the object heart_disease)"
   ]
  },
  {
   "cell_type": "code",
   "execution_count": null,
   "id": "79756ee1-47a4-413c-8d6f-92075cbe1753",
   "metadata": {},
   "outputs": [],
   "source": []
  }
 ],
 "metadata": {
  "kernelspec": {
   "display_name": "R",
   "language": "R",
   "name": "ir"
  },
  "language_info": {
   "codemirror_mode": "r",
   "file_extension": ".r",
   "mimetype": "text/x-r-source",
   "name": "R",
   "pygments_lexer": "r",
   "version": "4.3.1"
  }
 },
 "nbformat": 4,
 "nbformat_minor": 5
}
