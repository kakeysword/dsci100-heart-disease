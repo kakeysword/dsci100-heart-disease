{
 "cells": [
  {
   "cell_type": "markdown",
   "id": "b73b464a-79fe-47eb-9856-63df98cc0965",
   "metadata": {},
   "source": [
    "# DSCI 100 Group 05 Project - Heart Disease\n",
    "\n",
    "## Introduction\n",
    "\n",
    "### Heart disease describes a range of conditions that affect the heart.\n"
   ]
  },
  {
   "cell_type": "code",
   "execution_count": 1,
   "id": "1dd66252-dd0f-48aa-a6cf-6dfbc3b1aabf",
   "metadata": {},
   "outputs": [
    {
     "name": "stderr",
     "output_type": "stream",
     "text": [
      "── \u001b[1mAttaching core tidyverse packages\u001b[22m ──────────────────────── tidyverse 2.0.0 ──\n",
      "\u001b[32m✔\u001b[39m \u001b[34mdplyr    \u001b[39m 1.1.3     \u001b[32m✔\u001b[39m \u001b[34mreadr    \u001b[39m 2.1.4\n",
      "\u001b[32m✔\u001b[39m \u001b[34mforcats  \u001b[39m 1.0.0     \u001b[32m✔\u001b[39m \u001b[34mstringr  \u001b[39m 1.5.0\n",
      "\u001b[32m✔\u001b[39m \u001b[34mggplot2  \u001b[39m 3.4.4     \u001b[32m✔\u001b[39m \u001b[34mtibble   \u001b[39m 3.2.1\n",
      "\u001b[32m✔\u001b[39m \u001b[34mlubridate\u001b[39m 1.9.3     \u001b[32m✔\u001b[39m \u001b[34mtidyr    \u001b[39m 1.3.0\n",
      "\u001b[32m✔\u001b[39m \u001b[34mpurrr    \u001b[39m 1.0.2     \n",
      "── \u001b[1mConflicts\u001b[22m ────────────────────────────────────────── tidyverse_conflicts() ──\n",
      "\u001b[31m✖\u001b[39m \u001b[34mdplyr\u001b[39m::\u001b[32mfilter()\u001b[39m masks \u001b[34mstats\u001b[39m::filter()\n",
      "\u001b[31m✖\u001b[39m \u001b[34mdplyr\u001b[39m::\u001b[32mlag()\u001b[39m    masks \u001b[34mstats\u001b[39m::lag()\n",
      "\u001b[36mℹ\u001b[39m Use the conflicted package (\u001b[3m\u001b[34m<http://conflicted.r-lib.org/>\u001b[39m\u001b[23m) to force all conflicts to become errors\n",
      "── \u001b[1mAttaching packages\u001b[22m ────────────────────────────────────── tidymodels 1.1.1 ──\n",
      "\n",
      "\u001b[32m✔\u001b[39m \u001b[34mbroom       \u001b[39m 1.0.5     \u001b[32m✔\u001b[39m \u001b[34mrsample     \u001b[39m 1.2.0\n",
      "\u001b[32m✔\u001b[39m \u001b[34mdials       \u001b[39m 1.2.0     \u001b[32m✔\u001b[39m \u001b[34mtune        \u001b[39m 1.1.2\n",
      "\u001b[32m✔\u001b[39m \u001b[34minfer       \u001b[39m 1.0.5     \u001b[32m✔\u001b[39m \u001b[34mworkflows   \u001b[39m 1.1.3\n",
      "\u001b[32m✔\u001b[39m \u001b[34mmodeldata   \u001b[39m 1.2.0     \u001b[32m✔\u001b[39m \u001b[34mworkflowsets\u001b[39m 1.0.1\n",
      "\u001b[32m✔\u001b[39m \u001b[34mparsnip     \u001b[39m 1.1.1     \u001b[32m✔\u001b[39m \u001b[34myardstick   \u001b[39m 1.2.0\n",
      "\u001b[32m✔\u001b[39m \u001b[34mrecipes     \u001b[39m 1.0.8     \n",
      "\n",
      "── \u001b[1mConflicts\u001b[22m ───────────────────────────────────────── tidymodels_conflicts() ──\n",
      "\u001b[31m✖\u001b[39m \u001b[34mscales\u001b[39m::\u001b[32mdiscard()\u001b[39m masks \u001b[34mpurrr\u001b[39m::discard()\n",
      "\u001b[31m✖\u001b[39m \u001b[34mdplyr\u001b[39m::\u001b[32mfilter()\u001b[39m   masks \u001b[34mstats\u001b[39m::filter()\n",
      "\u001b[31m✖\u001b[39m \u001b[34mrecipes\u001b[39m::\u001b[32mfixed()\u001b[39m  masks \u001b[34mstringr\u001b[39m::fixed()\n",
      "\u001b[31m✖\u001b[39m \u001b[34mdplyr\u001b[39m::\u001b[32mlag()\u001b[39m      masks \u001b[34mstats\u001b[39m::lag()\n",
      "\u001b[31m✖\u001b[39m \u001b[34myardstick\u001b[39m::\u001b[32mspec()\u001b[39m masks \u001b[34mreadr\u001b[39m::spec()\n",
      "\u001b[31m✖\u001b[39m \u001b[34mrecipes\u001b[39m::\u001b[32mstep()\u001b[39m   masks \u001b[34mstats\u001b[39m::step()\n",
      "\u001b[34m•\u001b[39m Search for functions across packages at \u001b[32mhttps://www.tidymodels.org/find/\u001b[39m\n",
      "\n",
      "\u001b[1mRows: \u001b[22m\u001b[34m303\u001b[39m \u001b[1mColumns: \u001b[22m\u001b[34m1\u001b[39m\n",
      "\u001b[36m──\u001b[39m \u001b[1mColumn specification\u001b[22m \u001b[36m────────────────────────────────────────────────────────\u001b[39m\n",
      "\u001b[1mDelimiter:\u001b[22m \"\\t\"\n",
      "\u001b[31mchr\u001b[39m (1): X1\n",
      "\n",
      "\u001b[36mℹ\u001b[39m Use `spec()` to retrieve the full column specification for this data.\n",
      "\u001b[36mℹ\u001b[39m Specify the column types or set `show_col_types = FALSE` to quiet this message.\n"
     ]
    }
   ],
   "source": [
    "## Load libraries:\n",
    "library(tidyverse)\n",
    "library(readr)\n",
    "library(tidymodels)\n",
    "options(repr.matrix.max.rows = 6)\n",
    "\n",
    "# Set seed\n",
    "set.seed(1)\n",
    "\n",
    "## Load Heart Disease Data (name the object heart_disease)\n",
    "cleveland_data <- read_delim(\"data/cleve.mod\", delim = \"\\t\", skip = 19, col_names = FALSE)\n"
   ]
  },
  {
   "cell_type": "code",
   "execution_count": 6,
   "id": "79756ee1-47a4-413c-8d6f-92075cbe1753",
   "metadata": {},
   "outputs": [
    {
     "name": "stderr",
     "output_type": "stream",
     "text": [
      "Warning message:\n",
      "“\u001b[1m\u001b[22mExpected 14 pieces. Additional pieces discarded in 303 rows [1, 2, 3, 4, 5, 6,\n",
      "7, 8, 9, 10, 11, 12, 13, 14, 15, 16, 17, 18, 19, 20, ...].”\n",
      "Warning message:\n",
      "“\u001b[1m\u001b[22mThere were 2 warnings in `mutate()`.\n",
      "The first warning was:\n",
      "\u001b[1m\u001b[22m\u001b[36mℹ\u001b[39m In argument: `ca = .Primitive(\"as.double\")(ca)`.\n",
      "Caused by warning:\n",
      "\u001b[33m!\u001b[39m NAs introduced by coercion\n",
      "\u001b[1m\u001b[22m\u001b[36mℹ\u001b[39m Run `dplyr::last_dplyr_warnings()` to see the 1 remaining warning.”\n"
     ]
    },
    {
     "data": {
      "text/html": [
       "<table class=\"dataframe\">\n",
       "<caption>A tibble: 303 × 5</caption>\n",
       "<thead>\n",
       "\t<tr><th scope=col>exang</th><th scope=col>age</th><th scope=col>trestbps</th><th scope=col>chol</th><th scope=col>thalach</th></tr>\n",
       "\t<tr><th scope=col>&lt;chr&gt;</th><th scope=col>&lt;dbl&gt;</th><th scope=col>&lt;dbl&gt;</th><th scope=col>&lt;dbl&gt;</th><th scope=col>&lt;dbl&gt;</th></tr>\n",
       "</thead>\n",
       "<tbody>\n",
       "\t<tr><td>fal </td><td>63</td><td>145</td><td>233</td><td>150</td></tr>\n",
       "\t<tr><td>true</td><td>67</td><td>160</td><td>286</td><td>108</td></tr>\n",
       "\t<tr><td>true</td><td>67</td><td>120</td><td>229</td><td>129</td></tr>\n",
       "\t<tr><td>⋮</td><td>⋮</td><td>⋮</td><td>⋮</td><td>⋮</td></tr>\n",
       "\t<tr><td>fal </td><td>49</td><td>118</td><td>149</td><td>126</td></tr>\n",
       "\t<tr><td>true</td><td>74</td><td>120</td><td>269</td><td>121</td></tr>\n",
       "\t<tr><td>fal </td><td>54</td><td>160</td><td>201</td><td>163</td></tr>\n",
       "</tbody>\n",
       "</table>\n"
      ],
      "text/latex": [
       "A tibble: 303 × 5\n",
       "\\begin{tabular}{lllll}\n",
       " exang & age & trestbps & chol & thalach\\\\\n",
       " <chr> & <dbl> & <dbl> & <dbl> & <dbl>\\\\\n",
       "\\hline\n",
       "\t fal  & 63 & 145 & 233 & 150\\\\\n",
       "\t true & 67 & 160 & 286 & 108\\\\\n",
       "\t true & 67 & 120 & 229 & 129\\\\\n",
       "\t ⋮ & ⋮ & ⋮ & ⋮ & ⋮\\\\\n",
       "\t fal  & 49 & 118 & 149 & 126\\\\\n",
       "\t true & 74 & 120 & 269 & 121\\\\\n",
       "\t fal  & 54 & 160 & 201 & 163\\\\\n",
       "\\end{tabular}\n"
      ],
      "text/markdown": [
       "\n",
       "A tibble: 303 × 5\n",
       "\n",
       "| exang &lt;chr&gt; | age &lt;dbl&gt; | trestbps &lt;dbl&gt; | chol &lt;dbl&gt; | thalach &lt;dbl&gt; |\n",
       "|---|---|---|---|---|\n",
       "| fal  | 63 | 145 | 233 | 150 |\n",
       "| true | 67 | 160 | 286 | 108 |\n",
       "| true | 67 | 120 | 229 | 129 |\n",
       "| ⋮ | ⋮ | ⋮ | ⋮ | ⋮ |\n",
       "| fal  | 49 | 118 | 149 | 126 |\n",
       "| true | 74 | 120 | 269 | 121 |\n",
       "| fal  | 54 | 160 | 201 | 163 |\n",
       "\n"
      ],
      "text/plain": [
       "    exang age trestbps chol thalach\n",
       "1   fal   63  145      233  150    \n",
       "2   true  67  160      286  108    \n",
       "3   true  67  120      229  129    \n",
       "⋮   ⋮     ⋮   ⋮        ⋮    ⋮      \n",
       "301 fal   49  118      149  126    \n",
       "302 true  74  120      269  121    \n",
       "303 fal   54  160      201  163    "
      ]
     },
     "metadata": {},
     "output_type": "display_data"
    }
   ],
   "source": [
    "## Clean and wrangle data \n",
    "\n",
    "cleveland_clean <- cleveland_data |> \n",
    "    separate(X1, into = c(\"age\", \"sex\", \"cp\", \"trestbps\", \"chol\",\"fbs\", \n",
    "                   \"restecg\", \"thalach\", \"exang\", \"oldpeak\", \"slope\", \n",
    "                   \"ca\", \"thal\", \"num\"), sep = \"\\\\s+\")\n",
    "\n",
    "## Set columns to correct type\n",
    "cleveland_clean <- mutate_at(cleveland_clean, \n",
    "                             c(\"age\", \"trestbps\", \"chol\", \"thalach\", \"oldpeak\", \"ca\", \"num\"),\n",
    "                            as.numeric) |>\n",
    "    mutate(cp = as_factor(exang)) |>\n",
    "    select(exang, age, trestbps, chol, thalach)\n",
    "\n",
    "cleveland_clean\n",
    "\n",
    "## Scaling the data\n",
    "cleveland_scaled <- cleveland_clean |>\n",
    "    mutate(scaled_age = scale(age, center = TRUE),\n",
    "          scaled_trestbps = scale(trestbps, center = TRUE),\n",
    "          scaled_chol = scale(chol, center = TRUE),\n",
    "          scaled_thalach = scale(thalach, center = TRUE))\n",
    "\n",
    "## Splitting the data into training and testing\n",
    "\n",
    "cleveland_split <- initial_split(cleveland_clean, prop = 0.75, strata = exang)\n",
    "cleveland_train <- training(cleveland_split)\n",
    "cleveland_test <- testing(cleveland_split)\n",
    "\n",
    "    \n"
   ]
  },
  {
   "cell_type": "code",
   "execution_count": 7,
   "id": "2c003178-4a43-41b6-867e-2d6cf4e3496e",
   "metadata": {},
   "outputs": [
    {
     "data": {
      "text/html": [
       "<table class=\"dataframe\">\n",
       "<caption>A tibble: 2 × 6</caption>\n",
       "<thead>\n",
       "\t<tr><th scope=col>exang</th><th scope=col>count</th><th scope=col>avg_restbps</th><th scope=col>avg_age</th><th scope=col>avg_chol</th><th scope=col>avg_thalach</th></tr>\n",
       "\t<tr><th scope=col>&lt;chr&gt;</th><th scope=col>&lt;int&gt;</th><th scope=col>&lt;dbl&gt;</th><th scope=col>&lt;dbl&gt;</th><th scope=col>&lt;dbl&gt;</th><th scope=col>&lt;dbl&gt;</th></tr>\n",
       "</thead>\n",
       "<tbody>\n",
       "\t<tr><td>fal </td><td>153</td><td>131.0327</td><td>53.33987</td><td>246.0784</td><td>156.9739</td></tr>\n",
       "\t<tr><td>true</td><td> 74</td><td>132.5946</td><td>55.40541</td><td>247.0946</td><td>137.6622</td></tr>\n",
       "</tbody>\n",
       "</table>\n"
      ],
      "text/latex": [
       "A tibble: 2 × 6\n",
       "\\begin{tabular}{llllll}\n",
       " exang & count & avg\\_restbps & avg\\_age & avg\\_chol & avg\\_thalach\\\\\n",
       " <chr> & <int> & <dbl> & <dbl> & <dbl> & <dbl>\\\\\n",
       "\\hline\n",
       "\t fal  & 153 & 131.0327 & 53.33987 & 246.0784 & 156.9739\\\\\n",
       "\t true &  74 & 132.5946 & 55.40541 & 247.0946 & 137.6622\\\\\n",
       "\\end{tabular}\n"
      ],
      "text/markdown": [
       "\n",
       "A tibble: 2 × 6\n",
       "\n",
       "| exang &lt;chr&gt; | count &lt;int&gt; | avg_restbps &lt;dbl&gt; | avg_age &lt;dbl&gt; | avg_chol &lt;dbl&gt; | avg_thalach &lt;dbl&gt; |\n",
       "|---|---|---|---|---|---|\n",
       "| fal  | 153 | 131.0327 | 53.33987 | 246.0784 | 156.9739 |\n",
       "| true |  74 | 132.5946 | 55.40541 | 247.0946 | 137.6622 |\n",
       "\n"
      ],
      "text/plain": [
       "  exang count avg_restbps avg_age  avg_chol avg_thalach\n",
       "1 fal   153   131.0327    53.33987 246.0784 156.9739   \n",
       "2 true   74   132.5946    55.40541 247.0946 137.6622   "
      ]
     },
     "metadata": {},
     "output_type": "display_data"
    }
   ],
   "source": [
    "## Group and Summarize Data to see number of occurences of different chest pain types\n",
    "\n",
    "num_cp <- cleveland_train |>\n",
    "    group_by(exang) |>\n",
    "    summarize(count = n(),\n",
    "             avg_restbps = mean(trestbps),\n",
    "             avg_age = mean(age),\n",
    "             avg_chol = mean(chol),\n",
    "             avg_thalach = mean(thalach))\n",
    "\n",
    "num_cp"
   ]
  },
  {
   "cell_type": "code",
   "execution_count": null,
   "id": "a05362e3-1857-44a9-80f8-2698e8a73d0a",
   "metadata": {},
   "outputs": [],
   "source": [
    "## Create plots to visualize data\n",
    "\n",
    "\n"
   ]
  }
 ],
 "metadata": {
  "kernelspec": {
   "display_name": "R",
   "language": "R",
   "name": "ir"
  },
  "language_info": {
   "codemirror_mode": "r",
   "file_extension": ".r",
   "mimetype": "text/x-r-source",
   "name": "R",
   "pygments_lexer": "r",
   "version": "4.3.1"
  }
 },
 "nbformat": 4,
 "nbformat_minor": 5
}
