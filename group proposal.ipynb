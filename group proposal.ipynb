{
 "cells": [
  {
   "cell_type": "markdown",
   "id": "b73b464a-79fe-47eb-9856-63df98cc0965",
   "metadata": {},
   "source": [
    "# DSCI 100 Group 05 Project - Heart Disease\n",
    "\n",
    "## Introduction\n",
    "\n",
    "### Heart disease describes a range of conditions that affect the heart.\n"
   ]
  },
  {
   "cell_type": "code",
   "execution_count": 25,
   "id": "1dd66252-dd0f-48aa-a6cf-6dfbc3b1aabf",
   "metadata": {},
   "outputs": [
    {
     "name": "stderr",
     "output_type": "stream",
     "text": [
      "\u001b[1mRows: \u001b[22m\u001b[34m303\u001b[39m \u001b[1mColumns: \u001b[22m\u001b[34m1\u001b[39m\n",
      "\u001b[36m──\u001b[39m \u001b[1mColumn specification\u001b[22m \u001b[36m────────────────────────────────────────────────────────\u001b[39m\n",
      "\u001b[1mDelimiter:\u001b[22m \"\\t\"\n",
      "\u001b[31mchr\u001b[39m (1): X1\n",
      "\n",
      "\u001b[36mℹ\u001b[39m Use `spec()` to retrieve the full column specification for this data.\n",
      "\u001b[36mℹ\u001b[39m Specify the column types or set `show_col_types = FALSE` to quiet this message.\n"
     ]
    },
    {
     "data": {
      "text/html": [
       "<table class=\"dataframe\">\n",
       "<caption>A spec_tbl_df: 303 × 1</caption>\n",
       "<thead>\n",
       "\t<tr><th scope=col>X1</th></tr>\n",
       "\t<tr><th scope=col>&lt;chr&gt;</th></tr>\n",
       "</thead>\n",
       "<tbody>\n",
       "\t<tr><td>63.0 male angina 145.0 233.0 true  hyp 150.0 fal  2.3 down 0.0  fix buff  H</td></tr>\n",
       "\t<tr><td>67.0 male asympt 160.0 286.0 fal   hyp 108.0 true 1.5 flat 3.0 norm sick S2</td></tr>\n",
       "\t<tr><td>67.0 male asympt 120.0 229.0 fal   hyp 129.0 true 2.6 flat 2.0  rev sick S1</td></tr>\n",
       "\t<tr><td>⋮</td></tr>\n",
       "\t<tr><td>49.0 male notang 118.0 149.0 fal   hyp 126.0 fal  0.8   up 3.0 norm sick S1</td></tr>\n",
       "\t<tr><td>74.0  fem abnang 120.0 269.0 fal   hyp 121.0 true 0.2   up 1.0 norm buff  H</td></tr>\n",
       "\t<tr><td>54.0  fem notang 160.0 201.0 fal  norm 163.0 fal  0.0   up 1.0 norm buff  H</td></tr>\n",
       "</tbody>\n",
       "</table>\n"
      ],
      "text/latex": [
       "A spec\\_tbl\\_df: 303 × 1\n",
       "\\begin{tabular}{l}\n",
       " X1\\\\\n",
       " <chr>\\\\\n",
       "\\hline\n",
       "\t 63.0 male angina 145.0 233.0 true  hyp 150.0 fal  2.3 down 0.0  fix buff  H\\\\\n",
       "\t 67.0 male asympt 160.0 286.0 fal   hyp 108.0 true 1.5 flat 3.0 norm sick S2\\\\\n",
       "\t 67.0 male asympt 120.0 229.0 fal   hyp 129.0 true 2.6 flat 2.0  rev sick S1\\\\\n",
       "\t ⋮\\\\\n",
       "\t 49.0 male notang 118.0 149.0 fal   hyp 126.0 fal  0.8   up 3.0 norm sick S1\\\\\n",
       "\t 74.0  fem abnang 120.0 269.0 fal   hyp 121.0 true 0.2   up 1.0 norm buff  H\\\\\n",
       "\t 54.0  fem notang 160.0 201.0 fal  norm 163.0 fal  0.0   up 1.0 norm buff  H\\\\\n",
       "\\end{tabular}\n"
      ],
      "text/markdown": [
       "\n",
       "A spec_tbl_df: 303 × 1\n",
       "\n",
       "| X1 &lt;chr&gt; |\n",
       "|---|\n",
       "| 63.0 male angina 145.0 233.0 true  hyp 150.0 fal  2.3 down 0.0  fix buff  H |\n",
       "| 67.0 male asympt 160.0 286.0 fal   hyp 108.0 true 1.5 flat 3.0 norm sick S2 |\n",
       "| 67.0 male asympt 120.0 229.0 fal   hyp 129.0 true 2.6 flat 2.0  rev sick S1 |\n",
       "| ⋮ |\n",
       "| 49.0 male notang 118.0 149.0 fal   hyp 126.0 fal  0.8   up 3.0 norm sick S1 |\n",
       "| 74.0  fem abnang 120.0 269.0 fal   hyp 121.0 true 0.2   up 1.0 norm buff  H |\n",
       "| 54.0  fem notang 160.0 201.0 fal  norm 163.0 fal  0.0   up 1.0 norm buff  H |\n",
       "\n"
      ],
      "text/plain": [
       "    X1                                                                         \n",
       "1   63.0 male angina 145.0 233.0 true  hyp 150.0 fal  2.3 down 0.0  fix buff  H\n",
       "2   67.0 male asympt 160.0 286.0 fal   hyp 108.0 true 1.5 flat 3.0 norm sick S2\n",
       "3   67.0 male asympt 120.0 229.0 fal   hyp 129.0 true 2.6 flat 2.0  rev sick S1\n",
       "⋮   ⋮                                                                          \n",
       "301 49.0 male notang 118.0 149.0 fal   hyp 126.0 fal  0.8   up 3.0 norm sick S1\n",
       "302 74.0  fem abnang 120.0 269.0 fal   hyp 121.0 true 0.2   up 1.0 norm buff  H\n",
       "303 54.0  fem notang 160.0 201.0 fal  norm 163.0 fal  0.0   up 1.0 norm buff  H"
      ]
     },
     "metadata": {},
     "output_type": "display_data"
    }
   ],
   "source": [
    "## Load libraries:\n",
    "library(tidyverse)\n",
    "library(readr)\n",
    "library(dplyr)\n",
    "library(tidymodels)\n",
    "options(repr.matrix.max.rows = 6)\n",
    "\n",
    "# Set seed\n",
    "set.seed(1)\n",
    "\n",
    "## Load Heart Disease Data (name the object heart_disease)\n",
    "cleveland_data <- read_delim(\"data/cleve.mod\", delim = \"\\t\", skip = 19, col_names = FALSE)\n",
    "\n",
    "cleveland_data"
   ]
  },
  {
   "cell_type": "code",
   "execution_count": 29,
   "id": "79756ee1-47a4-413c-8d6f-92075cbe1753",
   "metadata": {},
   "outputs": [
    {
     "name": "stderr",
     "output_type": "stream",
     "text": [
      "Warning message:\n",
      "“\u001b[1m\u001b[22mExpected 14 pieces. Additional pieces discarded in 303 rows [1, 2, 3, 4, 5, 6,\n",
      "7, 8, 9, 10, 11, 12, 13, 14, 15, 16, 17, 18, 19, 20, ...].”\n",
      "Warning message:\n",
      "“\u001b[1m\u001b[22mThere were 2 warnings in `mutate()`.\n",
      "The first warning was:\n",
      "\u001b[1m\u001b[22m\u001b[36mℹ\u001b[39m In argument: `ca = .Primitive(\"as.double\")(ca)`.\n",
      "Caused by warning:\n",
      "\u001b[33m!\u001b[39m NAs introduced by coercion\n",
      "\u001b[1m\u001b[22m\u001b[36mℹ\u001b[39m Run `dplyr::last_dplyr_warnings()` to see the 1 remaining warning.”\n"
     ]
    },
    {
     "data": {
      "text/html": [
       "<table class=\"dataframe\">\n",
       "<caption>A tibble: 303 × 5</caption>\n",
       "<thead>\n",
       "\t<tr><th scope=col>age</th><th scope=col>cp</th><th scope=col>trestbps</th><th scope=col>chol</th><th scope=col>thalach</th></tr>\n",
       "\t<tr><th scope=col>&lt;dbl&gt;</th><th scope=col>&lt;fct&gt;</th><th scope=col>&lt;dbl&gt;</th><th scope=col>&lt;dbl&gt;</th><th scope=col>&lt;dbl&gt;</th></tr>\n",
       "</thead>\n",
       "<tbody>\n",
       "\t<tr><td>63</td><td>angina</td><td>145</td><td>233</td><td>150</td></tr>\n",
       "\t<tr><td>67</td><td>asympt</td><td>160</td><td>286</td><td>108</td></tr>\n",
       "\t<tr><td>67</td><td>asympt</td><td>120</td><td>229</td><td>129</td></tr>\n",
       "\t<tr><td>⋮</td><td>⋮</td><td>⋮</td><td>⋮</td><td>⋮</td></tr>\n",
       "\t<tr><td>49</td><td>notang</td><td>118</td><td>149</td><td>126</td></tr>\n",
       "\t<tr><td>74</td><td>abnang</td><td>120</td><td>269</td><td>121</td></tr>\n",
       "\t<tr><td>54</td><td>notang</td><td>160</td><td>201</td><td>163</td></tr>\n",
       "</tbody>\n",
       "</table>\n"
      ],
      "text/latex": [
       "A tibble: 303 × 5\n",
       "\\begin{tabular}{lllll}\n",
       " age & cp & trestbps & chol & thalach\\\\\n",
       " <dbl> & <fct> & <dbl> & <dbl> & <dbl>\\\\\n",
       "\\hline\n",
       "\t 63 & angina & 145 & 233 & 150\\\\\n",
       "\t 67 & asympt & 160 & 286 & 108\\\\\n",
       "\t 67 & asympt & 120 & 229 & 129\\\\\n",
       "\t ⋮ & ⋮ & ⋮ & ⋮ & ⋮\\\\\n",
       "\t 49 & notang & 118 & 149 & 126\\\\\n",
       "\t 74 & abnang & 120 & 269 & 121\\\\\n",
       "\t 54 & notang & 160 & 201 & 163\\\\\n",
       "\\end{tabular}\n"
      ],
      "text/markdown": [
       "\n",
       "A tibble: 303 × 5\n",
       "\n",
       "| age &lt;dbl&gt; | cp &lt;fct&gt; | trestbps &lt;dbl&gt; | chol &lt;dbl&gt; | thalach &lt;dbl&gt; |\n",
       "|---|---|---|---|---|\n",
       "| 63 | angina | 145 | 233 | 150 |\n",
       "| 67 | asympt | 160 | 286 | 108 |\n",
       "| 67 | asympt | 120 | 229 | 129 |\n",
       "| ⋮ | ⋮ | ⋮ | ⋮ | ⋮ |\n",
       "| 49 | notang | 118 | 149 | 126 |\n",
       "| 74 | abnang | 120 | 269 | 121 |\n",
       "| 54 | notang | 160 | 201 | 163 |\n",
       "\n"
      ],
      "text/plain": [
       "    age cp     trestbps chol thalach\n",
       "1   63  angina 145      233  150    \n",
       "2   67  asympt 160      286  108    \n",
       "3   67  asympt 120      229  129    \n",
       "⋮   ⋮   ⋮      ⋮        ⋮    ⋮      \n",
       "301 49  notang 118      149  126    \n",
       "302 74  abnang 120      269  121    \n",
       "303 54  notang 160      201  163    "
      ]
     },
     "metadata": {},
     "output_type": "display_data"
    }
   ],
   "source": [
    "## Clean and wrangle data \n",
    "\n",
    "cleveland_clean <- cleveland_data |> \n",
    "    separate(X1, into = c(\"age\", \"sex\", \"cp\", \"trestbps\", \"chol\",\"fbs\", \n",
    "                   \"restecg\", \"thalach\", \"exang\", \"oldpeak\", \"slope\", \n",
    "                   \"ca\", \"thal\", \"num\"), sep = \"\\\\s+\")\n",
    "\n",
    "## Set columns to correct type\n",
    "cleveland_clean <- mutate_at(cleveland_clean, \n",
    "                             c(\"age\", \"trestbps\", \"chol\", \"thalach\", \"oldpeak\", \"ca\", \"num\"),\n",
    "                            as.numeric) |>\n",
    "    mutate(cp = as_factor(cp)) |>\n",
    "    select(age, cp, trestbps, chol, thalach)\n",
    "\n",
    "cleveland_clean\n",
    "\n",
    "## Scaling the data\n",
    "cleveland_scaled <- cleveland_clean |>\n",
    "    mutate(scaled_age = scale(age, center = TRUE),\n",
    "          scaled_trestbps = scale(trestbps, center = TRUE),\n",
    "          scaled_chol = scale(chol, center = TRUE),\n",
    "          scaled_thalach = scale(thalach, center = TRUE))\n",
    "\n",
    "## Splitting the data into training and testing\n",
    "\n",
    "cleveland_split <- initial_split(cleveland_clean, prop = 0.75, strata = cp)\n",
    "cleveland_train <- training(cleveland_split)\n",
    "cleveland_test <- testing(cleveland_split)\n",
    "\n",
    "    \n"
   ]
  },
  {
   "cell_type": "code",
   "execution_count": null,
   "id": "2c003178-4a43-41b6-867e-2d6cf4e3496e",
   "metadata": {},
   "outputs": [],
   "source": [
    "## "
   ]
  }
 ],
 "metadata": {
  "kernelspec": {
   "display_name": "R",
   "language": "R",
   "name": "ir"
  },
  "language_info": {
   "codemirror_mode": "r",
   "file_extension": ".r",
   "mimetype": "text/x-r-source",
   "name": "R",
   "pygments_lexer": "r",
   "version": "4.3.1"
  }
 },
 "nbformat": 4,
 "nbformat_minor": 5
}
