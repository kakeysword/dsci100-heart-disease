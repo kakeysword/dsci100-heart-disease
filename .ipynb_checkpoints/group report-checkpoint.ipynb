{
 "cells": [
  {
   "cell_type": "markdown",
   "id": "1abf91fd-ec09-4265-80e3-c66f04570a51",
   "metadata": {},
   "source": [
    "# Investigating the Causes of Exercise-Induced Angina\n",
    "### Cabrinha Clark, Carol Dong, Tanishka Gandhi, Astrid Zhang\n",
    "\n",
    "\n",
    "## Introduction\n",
    "Heart disease is the leading cause of death for both men and women of all racial and ethnic backgrounds within the United States. About 20.5 million U.S. adults have coronary artery disease, which occurs when the vessels supplying blood to your heart narrow. Exercise-induced angina, a common preset symptom of coronary artery disease, is chest pain that occurs due to reduced blood flow to the heart when an individual exercises. \n",
    "\n",
    "While it is good to exercise regularly, this symptom needs to be taken into consideration when deciding the right fitness plan for the individual to avoid heart disease. For example, an individual more prone to angina due to movement should lower the intensity of their cardio to avoid an episode. Our project will be performing data analysis on the cleve.mod dataset, containing test results of patients undergoing angiography at Cleveland Clinic to investigate what other factors may cause an individual to suffer exercise-induced angina, and to report our findings on this matter.\n",
    "\n",
    "Therefore, this research will investigate the question: \n",
    " **How do factors such as cholesterol level, maximum heart rate, exercise stress test, and age impact the likelihood of an individual experiencing exercise-induced angina?**\n",
    "\n"
   ]
  },
  {
   "cell_type": "markdown",
   "id": "1ce16f74-a5ed-4dd5-bae6-4436a5584610",
   "metadata": {},
   "source": [
    "## Preliminary Exploratory Data Analysis\n",
    "### Loading in libraries and the data set"
   ]
  },
  {
   "cell_type": "code",
   "execution_count": 15,
   "id": "1dd66252-dd0f-48aa-a6cf-6dfbc3b1aabf",
   "metadata": {
    "tags": []
   },
   "outputs": [
    {
     "name": "stderr",
     "output_type": "stream",
     "text": [
      "Updating HTML index of packages in '.Library'\n",
      "\n",
      "Making 'packages.html' ...\n",
      " done\n",
      "\n"
     ]
    }
   ],
   "source": [
    "## Loading libraries:\n",
    "install.packages(\"themis\")\n",
    "library(tidyverse)\n",
    "library(readr)\n",
    "library(tidymodels)\n",
    "library(stringr)\n",
    "options(repr.matrix.max.rows = 6)\n",
    "library(themis)\n",
    "\n",
    "# Set seed to ensure reproducibility\n",
    "set.seed(1)\n",
    "\n",
    "## Hide message\n",
    "show_col_types = FALSE"
   ]
  },
  {
   "cell_type": "markdown",
   "id": "29307e1d-23b5-47d7-85ad-20caf5110941",
   "metadata": {},
   "source": [
    "### Cleaning and wrangling data"
   ]
  },
  {
   "cell_type": "code",
   "execution_count": 51,
   "id": "79756ee1-47a4-413c-8d6f-92075cbe1753",
   "metadata": {
    "tags": []
   },
   "outputs": [
    {
     "name": "stderr",
     "output_type": "stream",
     "text": [
      "\u001b[1mRows: \u001b[22m\u001b[34m303\u001b[39m \u001b[1mColumns: \u001b[22m\u001b[34m1\u001b[39m\n",
      "\u001b[36m──\u001b[39m \u001b[1mColumn specification\u001b[22m \u001b[36m────────────────────────────────────────────────────────\u001b[39m\n",
      "\u001b[1mDelimiter:\u001b[22m \",\"\n",
      "\u001b[31mchr\u001b[39m (1): X1\n",
      "\n",
      "\u001b[36mℹ\u001b[39m Use `spec()` to retrieve the full column specification for this data.\n",
      "\u001b[36mℹ\u001b[39m Specify the column types or set `show_col_types = FALSE` to quiet this message.\n",
      "Warning message:\n",
      "“\u001b[1m\u001b[22mExpected 14 pieces. Additional pieces discarded in 303 rows [1, 2, 3, 4, 5, 6,\n",
      "7, 8, 9, 10, 11, 12, 13, 14, 15, 16, 17, 18, 19, 20, ...].”\n",
      "Warning message:\n",
      "“\u001b[1m\u001b[22mThere were 2 warnings in `mutate()`.\n",
      "The first warning was:\n",
      "\u001b[1m\u001b[22m\u001b[36mℹ\u001b[39m In argument: `ca = .Primitive(\"as.double\")(ca)`.\n",
      "Caused by warning:\n",
      "\u001b[33m!\u001b[39m NAs introduced by coercion\n",
      "\u001b[1m\u001b[22m\u001b[36mℹ\u001b[39m Run `dplyr::last_dplyr_warnings()` to see the 1 remaining warning.”\n"
     ]
    },
    {
     "data": {
      "text/html": [
       "<table class=\"dataframe\">\n",
       "<caption>A tibble: 303 × 7</caption>\n",
       "<thead>\n",
       "\t<tr><th scope=col>exang</th><th scope=col>age</th><th scope=col>trestbps</th><th scope=col>chol</th><th scope=col>thalach</th><th scope=col>ca</th><th scope=col>oldpeak</th></tr>\n",
       "\t<tr><th scope=col>&lt;fct&gt;</th><th scope=col>&lt;dbl&gt;</th><th scope=col>&lt;dbl&gt;</th><th scope=col>&lt;dbl&gt;</th><th scope=col>&lt;dbl&gt;</th><th scope=col>&lt;dbl&gt;</th><th scope=col>&lt;dbl&gt;</th></tr>\n",
       "</thead>\n",
       "<tbody>\n",
       "\t<tr><td>false</td><td>63</td><td>145</td><td>233</td><td>150</td><td>0</td><td>2.3</td></tr>\n",
       "\t<tr><td>true </td><td>67</td><td>160</td><td>286</td><td>108</td><td>3</td><td>1.5</td></tr>\n",
       "\t<tr><td>true </td><td>67</td><td>120</td><td>229</td><td>129</td><td>2</td><td>2.6</td></tr>\n",
       "\t<tr><td>⋮</td><td>⋮</td><td>⋮</td><td>⋮</td><td>⋮</td><td>⋮</td><td>⋮</td></tr>\n",
       "\t<tr><td>false</td><td>49</td><td>118</td><td>149</td><td>126</td><td>3</td><td>0.8</td></tr>\n",
       "\t<tr><td>true </td><td>74</td><td>120</td><td>269</td><td>121</td><td>1</td><td>0.2</td></tr>\n",
       "\t<tr><td>false</td><td>54</td><td>160</td><td>201</td><td>163</td><td>1</td><td>0.0</td></tr>\n",
       "</tbody>\n",
       "</table>\n"
      ],
      "text/latex": [
       "A tibble: 303 × 7\n",
       "\\begin{tabular}{lllllll}\n",
       " exang & age & trestbps & chol & thalach & ca & oldpeak\\\\\n",
       " <fct> & <dbl> & <dbl> & <dbl> & <dbl> & <dbl> & <dbl>\\\\\n",
       "\\hline\n",
       "\t false & 63 & 145 & 233 & 150 & 0 & 2.3\\\\\n",
       "\t true  & 67 & 160 & 286 & 108 & 3 & 1.5\\\\\n",
       "\t true  & 67 & 120 & 229 & 129 & 2 & 2.6\\\\\n",
       "\t ⋮ & ⋮ & ⋮ & ⋮ & ⋮ & ⋮ & ⋮\\\\\n",
       "\t false & 49 & 118 & 149 & 126 & 3 & 0.8\\\\\n",
       "\t true  & 74 & 120 & 269 & 121 & 1 & 0.2\\\\\n",
       "\t false & 54 & 160 & 201 & 163 & 1 & 0.0\\\\\n",
       "\\end{tabular}\n"
      ],
      "text/markdown": [
       "\n",
       "A tibble: 303 × 7\n",
       "\n",
       "| exang &lt;fct&gt; | age &lt;dbl&gt; | trestbps &lt;dbl&gt; | chol &lt;dbl&gt; | thalach &lt;dbl&gt; | ca &lt;dbl&gt; | oldpeak &lt;dbl&gt; |\n",
       "|---|---|---|---|---|---|---|\n",
       "| false | 63 | 145 | 233 | 150 | 0 | 2.3 |\n",
       "| true  | 67 | 160 | 286 | 108 | 3 | 1.5 |\n",
       "| true  | 67 | 120 | 229 | 129 | 2 | 2.6 |\n",
       "| ⋮ | ⋮ | ⋮ | ⋮ | ⋮ | ⋮ | ⋮ |\n",
       "| false | 49 | 118 | 149 | 126 | 3 | 0.8 |\n",
       "| true  | 74 | 120 | 269 | 121 | 1 | 0.2 |\n",
       "| false | 54 | 160 | 201 | 163 | 1 | 0.0 |\n",
       "\n"
      ],
      "text/plain": [
       "    exang age trestbps chol thalach ca oldpeak\n",
       "1   false 63  145      233  150     0  2.3    \n",
       "2   true  67  160      286  108     3  1.5    \n",
       "3   true  67  120      229  129     2  2.6    \n",
       "⋮   ⋮     ⋮   ⋮        ⋮    ⋮       ⋮  ⋮      \n",
       "301 false 49  118      149  126     3  0.8    \n",
       "302 true  74  120      269  121     1  0.2    \n",
       "303 false 54  160      201  163     1  0.0    "
      ]
     },
     "metadata": {},
     "output_type": "display_data"
    },
    {
     "data": {
      "text/html": [
       "<table class=\"dataframe\">\n",
       "<caption>A tibble: 303 × 5</caption>\n",
       "<thead>\n",
       "\t<tr><th scope=col>exang</th><th scope=col>age</th><th scope=col>chol</th><th scope=col>thalach</th><th scope=col>oldpeak</th></tr>\n",
       "\t<tr><th scope=col>&lt;fct&gt;</th><th scope=col>&lt;dbl&gt;</th><th scope=col>&lt;dbl&gt;</th><th scope=col>&lt;dbl&gt;</th><th scope=col>&lt;dbl&gt;</th></tr>\n",
       "</thead>\n",
       "<tbody>\n",
       "\t<tr><td>false</td><td>63</td><td>233</td><td>150</td><td>2.3</td></tr>\n",
       "\t<tr><td>true </td><td>67</td><td>286</td><td>108</td><td>1.5</td></tr>\n",
       "\t<tr><td>true </td><td>67</td><td>229</td><td>129</td><td>2.6</td></tr>\n",
       "\t<tr><td>⋮</td><td>⋮</td><td>⋮</td><td>⋮</td><td>⋮</td></tr>\n",
       "\t<tr><td>false</td><td>49</td><td>149</td><td>126</td><td>0.8</td></tr>\n",
       "\t<tr><td>true </td><td>74</td><td>269</td><td>121</td><td>0.2</td></tr>\n",
       "\t<tr><td>false</td><td>54</td><td>201</td><td>163</td><td>0.0</td></tr>\n",
       "</tbody>\n",
       "</table>\n"
      ],
      "text/latex": [
       "A tibble: 303 × 5\n",
       "\\begin{tabular}{lllll}\n",
       " exang & age & chol & thalach & oldpeak\\\\\n",
       " <fct> & <dbl> & <dbl> & <dbl> & <dbl>\\\\\n",
       "\\hline\n",
       "\t false & 63 & 233 & 150 & 2.3\\\\\n",
       "\t true  & 67 & 286 & 108 & 1.5\\\\\n",
       "\t true  & 67 & 229 & 129 & 2.6\\\\\n",
       "\t ⋮ & ⋮ & ⋮ & ⋮ & ⋮\\\\\n",
       "\t false & 49 & 149 & 126 & 0.8\\\\\n",
       "\t true  & 74 & 269 & 121 & 0.2\\\\\n",
       "\t false & 54 & 201 & 163 & 0.0\\\\\n",
       "\\end{tabular}\n"
      ],
      "text/markdown": [
       "\n",
       "A tibble: 303 × 5\n",
       "\n",
       "| exang &lt;fct&gt; | age &lt;dbl&gt; | chol &lt;dbl&gt; | thalach &lt;dbl&gt; | oldpeak &lt;dbl&gt; |\n",
       "|---|---|---|---|---|\n",
       "| false | 63 | 233 | 150 | 2.3 |\n",
       "| true  | 67 | 286 | 108 | 1.5 |\n",
       "| true  | 67 | 229 | 129 | 2.6 |\n",
       "| ⋮ | ⋮ | ⋮ | ⋮ | ⋮ |\n",
       "| false | 49 | 149 | 126 | 0.8 |\n",
       "| true  | 74 | 269 | 121 | 0.2 |\n",
       "| false | 54 | 201 | 163 | 0.0 |\n",
       "\n"
      ],
      "text/plain": [
       "    exang age chol thalach oldpeak\n",
       "1   false 63  233  150     2.3    \n",
       "2   true  67  286  108     1.5    \n",
       "3   true  67  229  129     2.6    \n",
       "⋮   ⋮     ⋮   ⋮    ⋮       ⋮      \n",
       "301 false 49  149  126     0.8    \n",
       "302 true  74  269  121     0.2    \n",
       "303 false 54  201  163     0.0    "
      ]
     },
     "metadata": {},
     "output_type": "display_data"
    }
   ],
   "source": [
    "## Clean and wrangle data \n",
    "\n",
    "# Set seed to ensure reproducibility\n",
    "\n",
    "## Loading data set with a url\n",
    "file_url <- \"http://raw.githubusercontent.com/kakeysword/dsci100-heart-disease/main/cleve.mod\"\n",
    "\n",
    "heart_disease_data <- read_delim(url(file_url), \",\", skip = 19, col_names = FALSE)\n",
    "\n",
    "## Assigning column names to the data set\n",
    "heart_disease_clean <- heart_disease_data |> \n",
    "    separate(X1, into = c(\"age\", \"sex\", \"cp\", \"trestbps\", \"chol\",\"fbs\", \n",
    "                   \"restecg\", \"thalach\", \"exang\", \"oldpeak\", \"slope\", \n",
    "                   \"ca\", \"thal\", \"num\"), sep = \"\\\\s+\")\n",
    "\n",
    "## Changing columns to the correct type, and replace all values of \"fal\" in exang column to \"false\" for better readablity\n",
    "heart_disease_clean <- mutate_at(heart_disease_clean, \n",
    "                             c(\"age\", \"trestbps\", \"chol\", \"thalach\", \"oldpeak\", \"ca\", \"num\"),\n",
    "                            as.numeric) |>\n",
    "    mutate(exang = as_factor(exang)) |> \n",
    "    mutate(exang = fct_recode(exang, \"false\"=\"fal\" , \"true\"= \"true\"))|>\n",
    "    select(exang, age, trestbps, chol, thalach, ca, oldpeak)\n",
    "heart_disease_clean\n",
    "\n",
    "#selecting our choosen variables, \n",
    "heart_disease_final <- heart_disease_clean |> select(exang, age, chol, thalach, oldpeak)\n",
    "heart_disease_final\n",
    "\n",
    "  \n"
   ]
  },
  {
   "cell_type": "markdown",
   "id": "cdb47756-74c7-4a8a-a1f9-8e381c7557a7",
   "metadata": {},
   "source": [
    "### Building K Classification Model"
   ]
  },
  {
   "cell_type": "code",
   "execution_count": 74,
   "id": "a57f0099-a3e3-495f-b810-9d4c4f781a35",
   "metadata": {
    "tags": []
   },
   "outputs": [
    {
     "data": {
      "text/plain": [
       "K-Nearest Neighbor Model Specification (classification)\n",
       "\n",
       "Main Arguments:\n",
       "  neighbors = 5\n",
       "  weight_func = rectangular\n",
       "\n",
       "Computational engine: kknn \n"
      ]
     },
     "metadata": {},
     "output_type": "display_data"
    },
    {
     "data": {
      "text/html": [
       "<table class=\"dataframe\">\n",
       "<caption>A tibble: 1 × 3</caption>\n",
       "<thead>\n",
       "\t<tr><th scope=col>.metric</th><th scope=col>.estimator</th><th scope=col>.estimate</th></tr>\n",
       "\t<tr><th scope=col>&lt;chr&gt;</th><th scope=col>&lt;chr&gt;</th><th scope=col>&lt;dbl&gt;</th></tr>\n",
       "</thead>\n",
       "<tbody>\n",
       "\t<tr><td>accuracy</td><td>binary</td><td>0.6578947</td></tr>\n",
       "</tbody>\n",
       "</table>\n"
      ],
      "text/latex": [
       "A tibble: 1 × 3\n",
       "\\begin{tabular}{lll}\n",
       " .metric & .estimator & .estimate\\\\\n",
       " <chr> & <chr> & <dbl>\\\\\n",
       "\\hline\n",
       "\t accuracy & binary & 0.6578947\\\\\n",
       "\\end{tabular}\n"
      ],
      "text/markdown": [
       "\n",
       "A tibble: 1 × 3\n",
       "\n",
       "| .metric &lt;chr&gt; | .estimator &lt;chr&gt; | .estimate &lt;dbl&gt; |\n",
       "|---|---|---|\n",
       "| accuracy | binary | 0.6578947 |\n",
       "\n"
      ],
      "text/plain": [
       "  .metric  .estimator .estimate\n",
       "1 accuracy binary     0.6578947"
      ]
     },
     "metadata": {},
     "output_type": "display_data"
    },
    {
     "data": {
      "text/html": [
       "<style>\n",
       ".list-inline {list-style: none; margin:0; padding: 0}\n",
       ".list-inline>li {display: inline-block}\n",
       ".list-inline>li:not(:last-child)::after {content: \"\\00b7\"; padding: 0 .5ex}\n",
       "</style>\n",
       "<ol class=list-inline><li>'false'</li><li>'true'</li></ol>\n"
      ],
      "text/latex": [
       "\\begin{enumerate*}\n",
       "\\item 'false'\n",
       "\\item 'true'\n",
       "\\end{enumerate*}\n"
      ],
      "text/markdown": [
       "1. 'false'\n",
       "2. 'true'\n",
       "\n",
       "\n"
      ],
      "text/plain": [
       "[1] \"false\" \"true\" "
      ]
     },
     "metadata": {},
     "output_type": "display_data"
    },
    {
     "data": {
      "text/html": [
       "<table class=\"dataframe\">\n",
       "<caption>A tibble: 1 × 3</caption>\n",
       "<thead>\n",
       "\t<tr><th scope=col>.metric</th><th scope=col>.estimator</th><th scope=col>.estimate</th></tr>\n",
       "\t<tr><th scope=col>&lt;chr&gt;</th><th scope=col>&lt;chr&gt;</th><th scope=col>&lt;dbl&gt;</th></tr>\n",
       "</thead>\n",
       "<tbody>\n",
       "\t<tr><td>recall</td><td>binary</td><td>0.745098</td></tr>\n",
       "</tbody>\n",
       "</table>\n"
      ],
      "text/latex": [
       "A tibble: 1 × 3\n",
       "\\begin{tabular}{lll}\n",
       " .metric & .estimator & .estimate\\\\\n",
       " <chr> & <chr> & <dbl>\\\\\n",
       "\\hline\n",
       "\t recall & binary & 0.745098\\\\\n",
       "\\end{tabular}\n"
      ],
      "text/markdown": [
       "\n",
       "A tibble: 1 × 3\n",
       "\n",
       "| .metric &lt;chr&gt; | .estimator &lt;chr&gt; | .estimate &lt;dbl&gt; |\n",
       "|---|---|---|\n",
       "| recall | binary | 0.745098 |\n",
       "\n"
      ],
      "text/plain": [
       "  .metric .estimator .estimate\n",
       "1 recall  binary     0.745098 "
      ]
     },
     "metadata": {},
     "output_type": "display_data"
    },
    {
     "data": {
      "text/html": [
       "<table class=\"dataframe\">\n",
       "<caption>A tibble: 1 × 3</caption>\n",
       "<thead>\n",
       "\t<tr><th scope=col>.metric</th><th scope=col>.estimator</th><th scope=col>.estimate</th></tr>\n",
       "\t<tr><th scope=col>&lt;chr&gt;</th><th scope=col>&lt;chr&gt;</th><th scope=col>&lt;dbl&gt;</th></tr>\n",
       "</thead>\n",
       "<tbody>\n",
       "\t<tr><td>precision</td><td>binary</td><td>0.745098</td></tr>\n",
       "</tbody>\n",
       "</table>\n"
      ],
      "text/latex": [
       "A tibble: 1 × 3\n",
       "\\begin{tabular}{lll}\n",
       " .metric & .estimator & .estimate\\\\\n",
       " <chr> & <chr> & <dbl>\\\\\n",
       "\\hline\n",
       "\t precision & binary & 0.745098\\\\\n",
       "\\end{tabular}\n"
      ],
      "text/markdown": [
       "\n",
       "A tibble: 1 × 3\n",
       "\n",
       "| .metric &lt;chr&gt; | .estimator &lt;chr&gt; | .estimate &lt;dbl&gt; |\n",
       "|---|---|---|\n",
       "| precision | binary | 0.745098 |\n",
       "\n"
      ],
      "text/plain": [
       "  .metric   .estimator .estimate\n",
       "1 precision binary     0.745098 "
      ]
     },
     "metadata": {},
     "output_type": "display_data"
    },
    {
     "data": {
      "text/html": [
       "<table class=\"dataframe\">\n",
       "<caption>A tibble: 1 × 3</caption>\n",
       "<thead>\n",
       "\t<tr><th scope=col>.metric</th><th scope=col>.estimator</th><th scope=col>.estimate</th></tr>\n",
       "\t<tr><th scope=col>&lt;chr&gt;</th><th scope=col>&lt;chr&gt;</th><th scope=col>&lt;dbl&gt;</th></tr>\n",
       "</thead>\n",
       "<tbody>\n",
       "\t<tr><td>recall</td><td>binary</td><td>0.48</td></tr>\n",
       "</tbody>\n",
       "</table>\n"
      ],
      "text/latex": [
       "A tibble: 1 × 3\n",
       "\\begin{tabular}{lll}\n",
       " .metric & .estimator & .estimate\\\\\n",
       " <chr> & <chr> & <dbl>\\\\\n",
       "\\hline\n",
       "\t recall & binary & 0.48\\\\\n",
       "\\end{tabular}\n"
      ],
      "text/markdown": [
       "\n",
       "A tibble: 1 × 3\n",
       "\n",
       "| .metric &lt;chr&gt; | .estimator &lt;chr&gt; | .estimate &lt;dbl&gt; |\n",
       "|---|---|---|\n",
       "| recall | binary | 0.48 |\n",
       "\n"
      ],
      "text/plain": [
       "  .metric .estimator .estimate\n",
       "1 recall  binary     0.48     "
      ]
     },
     "metadata": {},
     "output_type": "display_data"
    },
    {
     "data": {
      "text/html": [
       "<table class=\"dataframe\">\n",
       "<caption>A tibble: 1 × 3</caption>\n",
       "<thead>\n",
       "\t<tr><th scope=col>.metric</th><th scope=col>.estimator</th><th scope=col>.estimate</th></tr>\n",
       "\t<tr><th scope=col>&lt;chr&gt;</th><th scope=col>&lt;chr&gt;</th><th scope=col>&lt;dbl&gt;</th></tr>\n",
       "</thead>\n",
       "<tbody>\n",
       "\t<tr><td>precision</td><td>binary</td><td>0.48</td></tr>\n",
       "</tbody>\n",
       "</table>\n"
      ],
      "text/latex": [
       "A tibble: 1 × 3\n",
       "\\begin{tabular}{lll}\n",
       " .metric & .estimator & .estimate\\\\\n",
       " <chr> & <chr> & <dbl>\\\\\n",
       "\\hline\n",
       "\t precision & binary & 0.48\\\\\n",
       "\\end{tabular}\n"
      ],
      "text/markdown": [
       "\n",
       "A tibble: 1 × 3\n",
       "\n",
       "| .metric &lt;chr&gt; | .estimator &lt;chr&gt; | .estimate &lt;dbl&gt; |\n",
       "|---|---|---|\n",
       "| precision | binary | 0.48 |\n",
       "\n"
      ],
      "text/plain": [
       "  .metric   .estimator .estimate\n",
       "1 precision binary     0.48     "
      ]
     },
     "metadata": {},
     "output_type": "display_data"
    }
   ],
   "source": [
    "#setting seed\n",
    "set.seed(1)\n",
    "## Splitting the data into training and testing\n",
    "heart_disease_split <- initial_split(heart_disease_final, prop = 0.75, strata = exang)\n",
    "\n",
    "heart_disease_train <- training(heart_disease_split)\n",
    "heart_disease_test <- testing(heart_disease_split)\n",
    "\n",
    "#recipe\n",
    "heart_recipe <- recipe(exang ~ age + chol + thalach + oldpeak, data = heart_disease_train) |>\n",
    "    step_scale(all_predictors()) |>\n",
    "    step_center(all_predictors())|>\n",
    "    prep()\n",
    "\n",
    "#heart spec\n",
    "knn_spec <- nearest_neighbor(weight_func = \"rectangular\", neighbors = 5) |>\n",
    "set_engine(\"kknn\") |>\n",
    "set_mode(\"classification\")\n",
    "knn_spec\n",
    "\n",
    "#fit model to our data\n",
    "knn_fit <- workflow() |>\n",
    "    add_recipe(heart_recipe) |>\n",
    "    add_model(knn_spec) |>\n",
    "    fit(data = heart_disease_train)\n",
    "\n",
    "# Evaluate performance of our classfier\n",
    "heart_test_predictions_1 <- predict(knn_fit, heart_disease_test) |>\n",
    "    bind_cols(heart_disease_test)\n",
    "\n",
    "heart_test_predictions_1 |>\n",
    "    metrics(truth = exang, estimate = .pred_class)|>\n",
    "    filter(.metric == \"accuracy\")\n",
    "\n",
    "heart_test_predictions_1 |> pull(exang) |> levels()\n",
    "\n",
    "heart_test_predictions_1|>\n",
    "  recall(truth = exang, estimate = .pred_class, event_level = \"first\")\n",
    "heart_test_predictions_1|>\n",
    "  precision(truth = exang, estimate = .pred_class, event_level = \"first\")\n",
    "\n",
    "heart_test_predictions_1|>\n",
    "  recall(truth = exang, estimate = .pred_class, event_level = \"second\")\n",
    "heart_test_predictions_1|>\n",
    "  precision(truth = exang, estimate = .pred_class, event_level = \"second\")\n",
    "            \n",
    "## we see that both our precision and recall is not high as expected, especially the prediction of \"True\".\n",
    "## Then we try to tune our classifier and there may be 2 reasons to cause this result: \n",
    "## 1. unproper k value we choose (using cross-validation method and compare the classifier’s performance\n",
    "## for different values of K)\n",
    "## 2. In below summary and the big difference between the performance of True and False\n",
    "## we find that the Since the false class represents the majority of the training data, \n",
    "## the majority classifier would always predict that a new observation is false. (use up-sample func)"
   ]
  },
  {
   "cell_type": "code",
   "execution_count": 96,
   "id": "23c822ed-6675-48e1-a59f-0afc89d8f804",
   "metadata": {
    "tags": []
   },
   "outputs": [
    {
     "data": {
      "text/plain": [
       "══ Workflow [trained] ══════════════════════════════════════════════════════════\n",
       "\u001b[3mPreprocessor:\u001b[23m Recipe\n",
       "\u001b[3mModel:\u001b[23m nearest_neighbor()\n",
       "\n",
       "── Preprocessor ────────────────────────────────────────────────────────────────\n",
       "3 Recipe Steps\n",
       "\n",
       "• step_scale()\n",
       "• step_center()\n",
       "• step_upsample()\n",
       "\n",
       "── Model ───────────────────────────────────────────────────────────────────────\n",
       "\n",
       "Call:\n",
       "kknn::train.kknn(formula = ..y ~ ., data = data, ks = min_rows(5,     data, 5), kernel = ~\"rectangular\")\n",
       "\n",
       "Type of response variable: nominal\n",
       "Minimal misclassification: 0.245614\n",
       "Best kernel: rectangular\n",
       "Best k: 5"
      ]
     },
     "metadata": {},
     "output_type": "display_data"
    },
    {
     "data": {
      "text/html": [
       "0.603448275862069"
      ],
      "text/latex": [
       "0.603448275862069"
      ],
      "text/markdown": [
       "0.603448275862069"
      ],
      "text/plain": [
       "[1] 0.6034483"
      ]
     },
     "metadata": {},
     "output_type": "display_data"
    },
    {
     "ename": "ERROR",
     "evalue": "\u001b[1m\u001b[33mError\u001b[39m in `filter()`:\u001b[22m\n\u001b[1m\u001b[22m\u001b[36mℹ\u001b[39m In argument: `.metric == \"accuracy\"`.\n\u001b[1mCaused by error:\u001b[22m\n\u001b[33m!\u001b[39m object '.metric' not found\n",
     "output_type": "error",
     "traceback": [
      "\u001b[1m\u001b[33mError\u001b[39m in `filter()`:\u001b[22m\n\u001b[1m\u001b[22m\u001b[36mℹ\u001b[39m In argument: `.metric == \"accuracy\"`.\n\u001b[1mCaused by error:\u001b[22m\n\u001b[33m!\u001b[39m object '.metric' not found\nTraceback:\n",
      "1. collect_metrics(filter(tune_grid(add_model(add_recipe(workflow(), \n .     heart_recipe_3), knn_spec_2), resamples = vfold, grid = vals), \n .     .metric == \"accuracy\"))",
      "2. filter(tune_grid(add_model(add_recipe(workflow(), heart_recipe_3), \n .     knn_spec_2), resamples = vfold, grid = vals), .metric == \n .     \"accuracy\")",
      "3. filter.data.frame(tune_grid(add_model(add_recipe(workflow(), \n .     heart_recipe_3), knn_spec_2), resamples = vfold, grid = vals), \n .     .metric == \"accuracy\")",
      "4. filter_rows(.data, dots, by)",
      "5. filter_eval(dots, mask = mask, error_call = error_call, user_env = user_env)",
      "6. withCallingHandlers(mask$eval_all_filter(dots, env_filter), error = dplyr_error_handler(dots = dots, \n .     mask = mask, bullets = filter_bullets, error_call = error_call), \n .     warning = function(cnd) {\n .         local_error_context(dots, i, mask)\n .         warning_handler(cnd)\n .     }, `dplyr:::signal_filter_one_column_matrix` = function(e) {\n .         warn_filter_one_column_matrix(env = error_call, user_env = user_env)\n .     }, `dplyr:::signal_filter_across` = function(e) {\n .         warn_filter_across(env = error_call, user_env = user_env)\n .     }, `dplyr:::signal_filter_data_frame` = function(e) {\n .         warn_filter_data_frame(env = error_call, user_env = user_env)\n .     })",
      "7. mask$eval_all_filter(dots, env_filter)",
      "8. eval()",
      "9. .handleSimpleError(function (cnd) \n . {\n .     local_error_context(dots, i = frame[[i_sym]], mask = mask)\n .     if (inherits(cnd, \"dplyr:::internal_error\")) {\n .         parent <- error_cnd(message = bullets(cnd))\n .     }\n .     else {\n .         parent <- cnd\n .     }\n .     message <- c(cnd_bullet_header(action), i = if (has_active_group_context(mask)) cnd_bullet_cur_group_label())\n .     abort(message, class = error_class, parent = parent, call = error_call)\n . }, \"object '.metric' not found\", base::quote(eval()))",
      "10. h(simpleError(msg, call))",
      "11. abort(message, class = error_class, parent = parent, call = error_call)",
      "12. signal_abort(cnd, .file)"
     ]
    }
   ],
   "source": [
    "#setting seed\n",
    "set.seed(1)\n",
    "\n",
    "## create the 25/75 split of the training data into training and validation\n",
    "heart_disease_split_2 <- initial_split(heart_disease_train, prop = 0.75, strata = exang)\n",
    "\n",
    "heart_disease_subtrain <- training(heart_disease_split_2)\n",
    "heart_disease_validation <- testing(heart_disease_split_2)\n",
    "\n",
    "#recipe (balance the false and true)\n",
    "heart_recipe_2 <- recipe(exang ~ age + chol + thalach + oldpeak, data = heart_disease_subtrain) |>\n",
    "    step_scale(all_predictors()) |>\n",
    "    step_center(all_predictors())|>\n",
    "    step_upsample(exang, over_ratio = 1, skip = TRUE) |>\n",
    "    prep()\n",
    "# make sure to mention in discussion that using upsampling gave error when skip = FALSE. Using TRUE made accuracy decrease by over 20% \n",
    "\n",
    "# fit the knn model (we can reuse the old knn_spec model from before)\n",
    "knn_fit <- workflow() |>\n",
    "  add_recipe(heart_recipe_2) |>\n",
    "  add_model(knn_spec) |>\n",
    "  fit(data = heart_disease_subtrain)\n",
    "knn_fit\n",
    "\n",
    "# get predictions on the validation data\n",
    "validation_predicted <- predict(knn_fit, heart_disease_validation) |>\n",
    "  bind_cols(heart_disease_validation)\n",
    "\n",
    "# compute the accuracy\n",
    "acc <- validation_predicted |>\n",
    "  metrics(truth = exang, estimate = .pred_class) |>\n",
    "  filter(.metric == \"accuracy\") |>\n",
    "  select(.estimate) |>\n",
    "  pull()\n",
    "acc\n",
    "\n",
    "#add vfold\n",
    "heart_vfold <- vfold_cv(heart_disease_train, v = 10, strata = exang)\n",
    "\n",
    "##\n",
    "heart_recipe_3 <- recipe(exang ~ age + chol + thalach + oldpeak, data = heart_disease_train) |>\n",
    "    step_scale(all_predictors()) |>\n",
    "    step_center(all_predictors())|>\n",
    "    step_upsample(exang, over_ratio = 1, skip = TRUE) |>\n",
    "    prep()\n",
    "\n",
    "#heart spec\n",
    "knn_spec_2 <- nearest_neighbor(weight_func = \"rectangular\", neighbors = tune()) |>\n",
    "set_engine(\"kknn\") |>\n",
    "set_mode(\"classification\")\n",
    "\n",
    "\n",
    "#workflow\n",
    "vfold_metrics <- workflow() |>\n",
    "    add_recipe(heart_recipe_3) |>\n",
    "    add_model(knn_spec_2) |>\n",
    "    tune_grid(resamples = vfold, grid = vals) |>\n",
    "    filter(.metric == \"accuracy\")|>\n",
    "    collect_metrics()\n",
    "vfold_metrics"
   ]
  },
  {
   "cell_type": "code",
   "execution_count": 71,
   "id": "01179134-a05c-4460-898b-8c6a2670c9fd",
   "metadata": {},
   "outputs": [
    {
     "data": {
      "text/plain": [
       "══ Workflow [trained] ══════════════════════════════════════════════════════════\n",
       "\u001b[3mPreprocessor:\u001b[23m Recipe\n",
       "\u001b[3mModel:\u001b[23m nearest_neighbor()\n",
       "\n",
       "── Preprocessor ────────────────────────────────────────────────────────────────\n",
       "2 Recipe Steps\n",
       "\n",
       "• step_scale()\n",
       "• step_center()\n",
       "\n",
       "── Model ───────────────────────────────────────────────────────────────────────\n",
       "\n",
       "Call:\n",
       "kknn::train.kknn(formula = ..y ~ ., data = data, ks = min_rows(7,     data, 5), kernel = ~\"rectangular\")\n",
       "\n",
       "Type of response variable: nominal\n",
       "Minimal misclassification: 0.3026316\n",
       "Best kernel: rectangular\n",
       "Best k: 7"
      ]
     },
     "metadata": {},
     "output_type": "display_data"
    },
    {
     "data": {
      "text/html": [
       "<table class=\"dataframe\">\n",
       "<caption>A tibble: 1 × 3</caption>\n",
       "<thead>\n",
       "\t<tr><th scope=col>.metric</th><th scope=col>.estimator</th><th scope=col>.estimate</th></tr>\n",
       "\t<tr><th scope=col>&lt;chr&gt;</th><th scope=col>&lt;chr&gt;</th><th scope=col>&lt;dbl&gt;</th></tr>\n",
       "</thead>\n",
       "<tbody>\n",
       "\t<tr><td>accuracy</td><td>binary</td><td>0.6447368</td></tr>\n",
       "</tbody>\n",
       "</table>\n"
      ],
      "text/latex": [
       "A tibble: 1 × 3\n",
       "\\begin{tabular}{lll}\n",
       " .metric & .estimator & .estimate\\\\\n",
       " <chr> & <chr> & <dbl>\\\\\n",
       "\\hline\n",
       "\t accuracy & binary & 0.6447368\\\\\n",
       "\\end{tabular}\n"
      ],
      "text/markdown": [
       "\n",
       "A tibble: 1 × 3\n",
       "\n",
       "| .metric &lt;chr&gt; | .estimator &lt;chr&gt; | .estimate &lt;dbl&gt; |\n",
       "|---|---|---|\n",
       "| accuracy | binary | 0.6447368 |\n",
       "\n"
      ],
      "text/plain": [
       "  .metric  .estimator .estimate\n",
       "1 accuracy binary     0.6447368"
      ]
     },
     "metadata": {},
     "output_type": "display_data"
    }
   ],
   "source": [
    "\n",
    "\n",
    "  \n",
    "\n",
    "\n",
    "\n",
    "\n",
    "\n",
    "\n",
    "\n",
    "\n",
    "\n",
    "#workflow\n",
    "vfold_metrics <- workflow() |>\n",
    "    add_recipe(heart_recipe_2) |>\n",
    "    add_model(knn_spec_2) |>\n",
    "    tune_grid(resamples = vfold, grid = vals) |>\n",
    "    collect_metrics()\n",
    "vfold_metrics\n",
    "\n",
    "knn_fit <- workflow() |>\n",
    "  add_recipe(heart_recipe) |>\n",
    "  add_model(knn_spec_2) |>\n",
    "  fit(data = heart_disease_test)\n",
    "knn_fit\n",
    "vals <- tibble(neighbors = seq(from = 1, to = 10, by = 1))\n",
    "# heart_disease_final\n",
    "pred <- predict(knn_fit, heart_disease_test)\n",
    "   # bind_cols(heart_disease_test)\n",
    "\n",
    "heart_test_predictions |>\n",
    "    metrics(truth = exang, estimate = .pred_class) |>\n",
    "    filter(.metric == \"accuracy\")"
   ]
  },
  {
   "cell_type": "code",
   "execution_count": null,
   "id": "67c186b8-26f9-4455-9193-7e4ab593a34d",
   "metadata": {},
   "outputs": [],
   "source": [
    "#testing accuracy\n",
    "accuracies <- heart_workflow  |>\n",
    "    filter(.metric == \"accuracy\")\n",
    "\n",
    "accuracy_vs_k <- ggplot(accuracies, aes(x = neighbors, y = mean)) +\n",
    "    geom_point() + \n",
    "    geom_line() +\n",
    "    labs(x = \"neighbors\", y = \"accuracy estimate\") + \n",
    "    theme(text = element_text(size = 12))\n",
    "accuracy_vs_k\n",
    "\n",
    "best_k <- accuracies |>\n",
    "    arrange(desc(mean)) |>\n",
    "    head(1) |>\n",
    "    pull(neighbors)\n",
    "best_k\n",
    "\n",
    "#knn_spec with new k-value \n",
    "knn_spec_2 <- nearest_neighbor(weight_func = \"rectangular\", neighbors = best_k) |>\n",
    "set_engine(\"kknn\") |>\n",
    "set_mode(\"classification\")\n",
    "knn_spec_2\n",
    "\n",
    "knn_fit <- workflow() |>\n",
    "    add_recipe(heart_recipe) |>\n",
    "    add_model(knn_spec_2) |>\n",
    "    fit(data = heart_disease_train)\n",
    "\n",
    "#prediction\n",
    "heart_test_predictions <- predict(knn_fit, heart_disease_test) |>\n",
    "    bind_cols(heart_disease_test)\n",
    "\n",
    "heart_test_predictions |>\n",
    "    metrics(truth = exang, estimate = .pred_class)|>\n",
    "    filter(.metric == \"accuracy\")\n",
    "\n",
    "heart_test_predictions |>\n",
    "    precision(truth = exang, estimate = .pred_class, event_level = \"first\")"
   ]
  },
  {
   "cell_type": "markdown",
   "id": "6081afef-5957-45ae-b2cc-a7dbbedfbf1c",
   "metadata": {},
   "source": [
    "### Summarizing the data"
   ]
  },
  {
   "cell_type": "code",
   "execution_count": 72,
   "id": "2c003178-4a43-41b6-867e-2d6cf4e3496e",
   "metadata": {},
   "outputs": [
    {
     "data": {
      "text/html": [
       "<table class=\"dataframe\">\n",
       "<caption>A tibble: 2 × 11</caption>\n",
       "<thead>\n",
       "\t<tr><th scope=col>exang</th><th scope=col>count</th><th scope=col>avg_age</th><th scope=col>avg_chol</th><th scope=col>avg_thalach</th><th scope=col>min_age</th><th scope=col>min_chol</th><th scope=col>min_thalach</th><th scope=col>max_age</th><th scope=col>max_chol</th><th scope=col>max_thalach</th></tr>\n",
       "\t<tr><th scope=col>&lt;fct&gt;</th><th scope=col>&lt;int&gt;</th><th scope=col>&lt;dbl&gt;</th><th scope=col>&lt;dbl&gt;</th><th scope=col>&lt;dbl&gt;</th><th scope=col>&lt;dbl&gt;</th><th scope=col>&lt;dbl&gt;</th><th scope=col>&lt;dbl&gt;</th><th scope=col>&lt;dbl&gt;</th><th scope=col>&lt;dbl&gt;</th><th scope=col>&lt;dbl&gt;</th></tr>\n",
       "</thead>\n",
       "<tbody>\n",
       "\t<tr><td>false</td><td>153</td><td>53.66013</td><td>242.1373</td><td>156.3203</td><td>29</td><td>126</td><td>90</td><td>76</td><td>564</td><td>202</td></tr>\n",
       "\t<tr><td>true </td><td> 74</td><td>55.72973</td><td>248.5135</td><td>136.6081</td><td>35</td><td>131</td><td>88</td><td>74</td><td>353</td><td>186</td></tr>\n",
       "</tbody>\n",
       "</table>\n"
      ],
      "text/latex": [
       "A tibble: 2 × 11\n",
       "\\begin{tabular}{lllllllllll}\n",
       " exang & count & avg\\_age & avg\\_chol & avg\\_thalach & min\\_age & min\\_chol & min\\_thalach & max\\_age & max\\_chol & max\\_thalach\\\\\n",
       " <fct> & <int> & <dbl> & <dbl> & <dbl> & <dbl> & <dbl> & <dbl> & <dbl> & <dbl> & <dbl>\\\\\n",
       "\\hline\n",
       "\t false & 153 & 53.66013 & 242.1373 & 156.3203 & 29 & 126 & 90 & 76 & 564 & 202\\\\\n",
       "\t true  &  74 & 55.72973 & 248.5135 & 136.6081 & 35 & 131 & 88 & 74 & 353 & 186\\\\\n",
       "\\end{tabular}\n"
      ],
      "text/markdown": [
       "\n",
       "A tibble: 2 × 11\n",
       "\n",
       "| exang &lt;fct&gt; | count &lt;int&gt; | avg_age &lt;dbl&gt; | avg_chol &lt;dbl&gt; | avg_thalach &lt;dbl&gt; | min_age &lt;dbl&gt; | min_chol &lt;dbl&gt; | min_thalach &lt;dbl&gt; | max_age &lt;dbl&gt; | max_chol &lt;dbl&gt; | max_thalach &lt;dbl&gt; |\n",
       "|---|---|---|---|---|---|---|---|---|---|---|\n",
       "| false | 153 | 53.66013 | 242.1373 | 156.3203 | 29 | 126 | 90 | 76 | 564 | 202 |\n",
       "| true  |  74 | 55.72973 | 248.5135 | 136.6081 | 35 | 131 | 88 | 74 | 353 | 186 |\n",
       "\n"
      ],
      "text/plain": [
       "  exang count avg_age  avg_chol avg_thalach min_age min_chol min_thalach\n",
       "1 false 153   53.66013 242.1373 156.3203    29      126      90         \n",
       "2 true   74   55.72973 248.5135 136.6081    35      131      88         \n",
       "  max_age max_chol max_thalach\n",
       "1 76      564      202        \n",
       "2 74      353      186        "
      ]
     },
     "metadata": {},
     "output_type": "display_data"
    }
   ],
   "source": [
    "## Data to see number of occurences of exercise-induced angina\n",
    "\n",
    "sum_heart_disease <- heart_disease_train |>\n",
    "    group_by(exang) |>\n",
    "    summarize(count = n(),\n",
    "             avg_age = mean(age),         \n",
    "             avg_chol = mean(chol),      \n",
    "             avg_thalach = mean(thalach),\n",
    "             min_age = min(age),\n",
    "             min_chol = min(chol),\n",
    "             min_thalach = min(thalach),\n",
    "             max_age = max(age),\n",
    "             max_chol = max(chol),\n",
    "             max_thalach = max(thalach)) \n",
    "\n",
    "sum_heart_disease"
   ]
  },
  {
   "cell_type": "markdown",
   "id": "e8ce0392-dee0-4841-89ed-758ee1f84ab9",
   "metadata": {},
   "source": [
    "### Visualizing the data"
   ]
  },
  {
   "cell_type": "code",
   "execution_count": null,
   "id": "a05362e3-1857-44a9-80f8-2698e8a73d0a",
   "metadata": {},
   "outputs": [],
   "source": [
    "## Create plots to visualize data\n",
    "heart_disease_clean\n",
    "\n",
    "#boxplot for trestbps\n",
    "options(repr.plot.width = 8, repr.plot.height = 7)\n",
    "\n",
    "trestbps_plot <- heart_disease_clean |>\n",
    "    ggplot(aes(y = trestbps, x = exang)) +\n",
    "    geom_boxplot() +\n",
    "    labs(y = \"Trestbps (mmHg)\", x = \"Exercise Induced Angina\", title = \"Dependency of Angina on Trestbps\")\n",
    "trestbps_plot\n",
    "\n",
    "#boxplot for cholesterol\n",
    "chol_plot <- heart_disease_clean |>\n",
    "    ggplot(aes(y = chol, x = exang)) +\n",
    "    geom_boxplot() +\n",
    "    labs(y = \"Serum Cholesterol (mg/dl)\", x = \"Exercise Induced Angina\", title = \"Dependency of Angina on Cholesterol\")\n",
    "chol_plot\n",
    "\n",
    "#boxplot for thalach\n",
    "thalach_plot <- heart_disease_clean |>\n",
    "    ggplot(aes(y = thalach, x = exang)) +\n",
    "    geom_boxplot() +\n",
    "    labs(y = \"Thalach\", x = \"Exercise Induced Angina\", title = \"Dependency of Angina on Thalach\")\n",
    "thalach_plot\n",
    "\n",
    "#boxplot for ca\n",
    "ca_plot <- heart_disease_clean |>\n",
    "    ggplot(aes(y = ca, x = exang)) +\n",
    "    geom_boxplot() +\n",
    "    labs(y = \"Number of Major Vessels (CA)\", x = \"Exercise Induced Angina\", title = \"Dependency of Angina on CA\")\n",
    "ca_plot\n",
    "\n",
    "#boxplot for oldpeak \n",
    "oldpeak_plot <- heart_disease_clean |>\n",
    "    ggplot(aes(y = oldpeak, x = exang)) +\n",
    "    geom_boxplot() +\n",
    "    labs(y = \"oldpeak\", x = \"Exercise Induced Angina\")\n",
    "oldpeak_plot\n",
    "\n",
    "#boxplot for age \n",
    "age_plot <- heart_disease_clean |>\n",
    "    ggplot(aes(y = age, x = exang)) +\n",
    "    geom_boxplot() +\n",
    "    labs(y = \"Age\", x = \"Exercise Induced Angina\", title = \"Dependency of Angina on Age\")\n",
    "age_plot"
   ]
  },
  {
   "cell_type": "markdown",
   "id": "a58d1c81-ee3d-4160-b46e-935df1cb5353",
   "metadata": {},
   "source": [
    "## Methods\n",
    "After loading in the necessary libraries, we loaded in the `cleve.mod` data set from the Heart Disease Database, which contains data taken from patients at the Cleveland Clinic in Cleveland Ohio.\n",
    "Our data analysis will be preparing to perform a classification to determine whether a new patient is likely to experience exercise-induced angina.\n",
    "We are using `exang` (exercised-induced angina) as our classification variable, and the following 4 columns as the predictors: `age, chol, thalach, oldpeak`. <br><br>\n",
    "`exang` : Exercise induced angina (true or false) <br>\n",
    "`age` : Age in years <br>\n",
    "`chol` : Serum Cholesterol (mg/dl) <br>\n",
    "`thalach` : Maximum Heart Rate <br>\n",
    "`oldpeak` : Slope of the Peak Exercise ST Segment <br>\n",
    "\n",
    "In order to select the predictors used within our model, we create boxplots for each numeric variable supplied within the data: `age, chol, thalach, oldpeak, ca, trestbps`. <br><br>\n",
    "\n",
    "\n",
    "When cleaning the data, we made sure to separate the data into individual columns, and convert them into the correct type (e.g. numeric for numerical variables) as everything was of type character when the data set was first loaded in. <br> <br>\n",
    "Next, we split the `heart_disease_data` into 3/4 training and 1/4 testing data, setting `strata` to `exang`. <br> <br>\n",
    "When summarizing the data, we grouped the training dataset by `exang`, and then found the number of patients that did or did not experience exercise-induced angina, and also found the mean, minimum and maximum value for each grouping. <br> <br>\n",
    "For the visualization of our data, we created three scatter plots with the predictive variables using the training data:\n",
    " * `chol` vs `age` \n",
    " * `thalach` vs `age`\n",
    " * `chol` vs `thalach` <br><br>\n",
    "As a result, we can see a weak positive relationship between `chol` and `age` in the first plot. The age distribution implicates that more patients older in age have experienced exercise-induced angina more than patients younger in age, as more data points with the `true` value tend to the right side of the plot. <br>The second plot shows a weak negative trend, showing that the maximum heart rate decreases with age. We can also see that patients who do not have exercise-induced angina tend to have a higher maximum heart rate. <br>The third plot does not show a clear linear trend between cholesterol levels and heart rate, suggesting that patients with varying heart rates tend to have similar cholesterol levels."
   ]
  },
  {
   "cell_type": "markdown",
   "id": "a4654f34-0a91-4639-a8ee-c0c661dc0a85",
   "metadata": {},
   "source": [
    "## Expected Outcomes and Significance\n",
    "**What we expect to find：**  \n",
    "For our first variable, age, we expect to see a positive relationship between age and anginal pain. Scientific studies prove that as humans age, the level of oxygen concentration within the blood decreases. For serum cholesterol, higher blood cholesterol concentration is associated with less oxygen transport within the blood. Therefore, we expect to find higher serum cholesterol levels among patients that have experienced exercise-induced angina. Maximum heart rate indicates the demand for blood and oxygen of the heart. We expect to find a positive correlation between each predictive variable and the number of individuals experiencing exercise-induced angina.\n",
    "\n",
    "**The impact of our findings：**  \n",
    "Many doctors recommend exercise for various types of medical concerns. Our research findings could influence doctors to offer safer remedies to their patients. For example, prior to recommending high-intensity exercise to their patients, a medical professional can consider the three predictive variables within our study to analyze how susceptible the patient is to heart pain during movement. This could decrease the risk of a patient experiencing exercise-induced angina by prescribing a lower intensity plan.\n",
    "\n",
    "**Future questions this could lead to：**\n",
    "* How effective would maintaining a lower cholesterol level and heart rate be towards preventing exercise-induced angina?\n",
    "* What other factors could be strong indicators that an individual is susceptible to experiencing angina?\n"
   ]
  },
  {
   "cell_type": "markdown",
   "id": "9f4f7867-3bf2-45b6-a4d4-eae1d3a2e836",
   "metadata": {},
   "source": [
    "## Bibliography\n",
    "\n",
    "Janosi,Andras, Steinbrunn,William, Pfisterer,Matthias, and Detrano,Robert. (1988). Heart Disease. UCI Machine Learning Repository. https://doi.org/10.24432/C52P4X. \n",
    "<br><br>\n",
    "Buchwald H, O'Dea TJ, Menchaca HJ, Michalek VN, Rohde TD. Effect of plasma cholesterol on red blood cell oxygen transport. Clin Exp Pharmacol Physiol. 2000 Dec;27(12):951-5. doi: 10.1046/j.1440-1681.2000.03383.x. PMID: 11117230.<br><br>\n",
    "Cunha, John P., editor. \"What Is a Good Oxygen Rate by Age?\" emedicinehealth,  www.emedicinehealth.com/what_is_a_good_oxygen_rate_by_age/article_em.htm <br><br>\n",
    "Beckett N, Nunes M, Bulpitt C. Is it advantageous to lower cholesterol in the elderly hypertensive? Cardiovasc Drugs Ther. 2000 Aug;14(4):397-405. doi: 10.1023/a:1007812232328. PMID: 10999646.<br><br>\n",
    "Crooks CJ, West J, Morling J, Simmonds M, Juurlink I, Briggs S, Cruickshank S, Hammond-Pears S, Shaw D, Card T, Fogarty AW. Inverse association between blood pressure and pulse oximetry accuracy: an observational study in patients with suspected or confirmed COVID-19 infection. Emerg Med J. 2023 Mar;40(3):216-220. doi: 10.1136/emermed-2022-212443. Epub 2022 Dec 7. PMID: 36600468. <br><br>\n",
    "Schantz P, Salier Eriksson J, Rosdahl H. The heart rate method for estimating oxygen uptake: analyses of reproducibility using a range of heart rates from commuter walking. Eur J Appl Physiol. 2019 Dec;119(11-12):2655-2671. doi: 10.1007/s00421-019-04236-0. Epub 2019 Oct 18. PMID: 31628539; PMCID: PMC6858472. <br><br>\n",
    "Medical News Today. www.medicalnewstoday.com/articles/does-exercise-lower-cholesterol#:~:text=According%20to%20the%20AHA%2C%20150,also%20help%20raise%20HDL%20cholesterol. Accessed 9 Mar. 2024. <br><br>\n",
    "\"What Is Coronary Heart Disease.\" National Heart, Lung, and Blood Institute, www.nhlbi.nih.gov/health/coronary-heart-disease#:~:text=About%2020.5%20million%20U.S.%20adults,the%20surface%20of%20the%20heart. Accessed 9 Mar. 2024. \n",
    "\n"
   ]
  },
  {
   "cell_type": "code",
   "execution_count": null,
   "id": "b27ad590-5973-456b-be00-cf5abeffcd4a",
   "metadata": {},
   "outputs": [],
   "source": [
    "\n",
    "heart_disease_clean <- heart_disease_data |> \n",
    "    separate(X1, into = c(\"age\", \"sex\", \"cp\", \"trestbps\", \"chol\",\"fbs\", \n",
    "                   \"restecg\", \"thalach\", \"exang\", \"oldpeak\", \"slope\", \n",
    "                   \"ca\", \"thal\", \"num\"), sep = \"\\\\s+\")\n"
   ]
  },
  {
   "cell_type": "code",
   "execution_count": null,
   "id": "72747a7f-af77-47b8-8158-9a694eeb2db8",
   "metadata": {},
   "outputs": [],
   "source": []
  },
  {
   "cell_type": "code",
   "execution_count": null,
   "id": "5ec2f9d0-9d14-46e6-963a-5601da5dc8a4",
   "metadata": {},
   "outputs": [],
   "source": []
  }
 ],
 "metadata": {
  "kernelspec": {
   "display_name": "R",
   "language": "R",
   "name": "ir"
  },
  "language_info": {
   "codemirror_mode": "r",
   "file_extension": ".r",
   "mimetype": "text/x-r-source",
   "name": "R",
   "pygments_lexer": "r",
   "version": "4.2.2"
  },
  "widgets": {
   "application/vnd.jupyter.widget-state+json": {
    "state": {},
    "version_major": 2,
    "version_minor": 0
   }
  }
 },
 "nbformat": 4,
 "nbformat_minor": 5
}
